{
 "cells": [
  {
   "cell_type": "markdown",
   "metadata": {},
   "source": [
    "# Scratchbook"
   ]
  },
  {
   "cell_type": "code",
   "execution_count": 22,
   "metadata": {},
   "outputs": [],
   "source": [
    "from tika import parser\n",
    "import pandas as pd\n",
    "import glob"
   ]
  },
  {
   "cell_type": "code",
   "execution_count": 23,
   "metadata": {},
   "outputs": [],
   "source": [
    "def parse_pdf(file):\n",
    "    parsedPDF = parser.from_file(file)\n",
    "    content = parsedPDF['content']\n",
    "    contentlist = content.split('\\n')\n",
    "    contentlist = list(filter(lambda a: a != '', contentlist))\n",
    "    contentlist = list(filter(lambda a: a != ' ', contentlist))\n",
    "    return contentlist"
   ]
  },
  {
   "cell_type": "code",
   "execution_count": 24,
   "metadata": {},
   "outputs": [],
   "source": [
    "def find_int(entry):\n",
    "    try:\n",
    "        out = isinstance(int(entry), int)\n",
    "    except:\n",
    "        out = False\n",
    "    return out"
   ]
  },
  {
   "cell_type": "markdown",
   "metadata": {},
   "source": [
    "Einzelne Positionen"
   ]
  },
  {
   "cell_type": "code",
   "execution_count": 25,
   "metadata": {},
   "outputs": [],
   "source": [
    "def is_float(entry):\n",
    "    try:\n",
    "        out = isinstance(float(entry), float)\n",
    "    except:\n",
    "        out = False\n",
    "    return out"
   ]
  },
  {
   "cell_type": "code",
   "execution_count": 26,
   "metadata": {},
   "outputs": [],
   "source": [
    "def positions(t, contentlist, art_df):\n",
    "    preis_list = []\n",
    "    original_preis = []\n",
    "    menge_list = []\n",
    "    artikel_list = []\n",
    "    gebinde_list = []\n",
    "\n",
    "    for position in pd.Series(t[t].index):\n",
    "        \n",
    "        #article\n",
    "        artikel_list.append(contentlist[position+1])\n",
    "        \n",
    "        #quantity\n",
    "        menge_list.append(int(contentlist[position]))\n",
    "\n",
    "        #binding\n",
    "        txt = contentlist[position+2].split(' ')[-1]\n",
    "        if not is_float(txt):\n",
    "            text = contentlist[position+2]\n",
    "        else:\n",
    "            text = ' '.join(contentlist[position+2].split(' ')[:-1])\n",
    "        gebinde_list.append(text)\n",
    "\n",
    "        #price\n",
    "        if position > pd.Series(t[t].index)[0]:\n",
    "            if contentlist[position-1][:7] == 'http://':\n",
    "                txt = contentlist[position-2]\n",
    "            elif contentlist[position-1][:9] == 'Bestellnr':\n",
    "                txt = contentlist[position-3]\n",
    "            else:\n",
    "                txt = contentlist[position-1]\n",
    "            preis_list.append(float(txt.split(' ')[-1]))\n",
    "            if not is_float(contentlist[position-2]):\n",
    "                original_preis.append(float(txt.split(' ')[-1]))\n",
    "            else:\n",
    "                original_preis.append(float(contentlist[position-2]))\n",
    "\n",
    "    #reduced price last article\n",
    "    last_text = ''.join(contentlist[position:])\n",
    "    last_end = last_text.find('Pfand')\n",
    "    last_start = last_text[:last_end].rfind(' ')\n",
    "    preis_list.append(float(last_text[last_start+1:last_end]))\n",
    "\n",
    "    #original price last article\n",
    "    for idx, entry in enumerate(contentlist):\n",
    "        if entry.split(' ')[0] == 'Pfand':\n",
    "            check = is_float(contentlist[idx-2])\n",
    "            if not check:\n",
    "                original_preis.append(float(last_text[last_start+1:last_end]))\n",
    "            else:\n",
    "                original_preis.append(float(contentlist[idx-2]))\n",
    "\n",
    "    reduced_list = [i<j for i, j in zip(preis_list, original_preis)]\n",
    "\n",
    "    art_df['position'] = range(1,len(pd.Series(t[t].index))+1)\n",
    "    art_df['article'] = artikel_list\n",
    "    einzelpreis_list = [round(i/j,2) for i, j in zip(preis_list, menge_list)]\n",
    "    art_df['paid per unit'] = einzelpreis_list\n",
    "    art_df['amount'] = menge_list\n",
    "    art_df['paid per position'] = preis_list\n",
    "    art_df['reduced'] = reduced_list\n",
    "\n",
    "    einzelpreis_original_list = [i / j for i, j in zip(original_preis, menge_list)]\n",
    "    art_df['original price per unit'] = einzelpreis_original_list\n",
    "    art_df['original price per position'] = original_preis\n",
    "    art_df['binding'] = gebinde_list\n",
    "\n",
    "    unit_list = []\n",
    "    for gebinde in gebinde_list:\n",
    "        unit = [(i, c) for i,c in enumerate(gebinde) if c.isdigit()]\n",
    "        if len(unit) > 0:\n",
    "            unit_list.append(gebinde[[(i, c) for i,c in enumerate(gebinde) if c.isdigit()][-1][0]+1:].strip())\n",
    "        else:\n",
    "            unit_list.append('')\n",
    "    measure_list = []\n",
    "    for gebinde in gebinde_list:\n",
    "        gebinde = gebinde.replace(',','.')\n",
    "        txt = [(i, c) for i,c in enumerate(gebinde) if c.isdigit()]\n",
    "        if len(txt) > 0:\n",
    "            meas = gebinde[:[(i, c) for i,c in enumerate(gebinde) if c.isdigit()][-1][0]+1]\n",
    "        else:\n",
    "            meas = '1'\n",
    "        mult =  meas.find(' x ')\n",
    "        if mult > 0:\n",
    "            meas = float(float(meas[:mult])*float(meas[mult+3:]))\n",
    "        else:\n",
    "            if is_float(meas):\n",
    "                meas = float(meas)\n",
    "            else:\n",
    "                meas = float(meas.split(' ')[-1])\n",
    "        measure_list.append(meas)\n",
    "\n",
    "    art_df['quantity'] = measure_list\n",
    "    art_df['unit'] = unit_list\n",
    "\n",
    "    return art_df"
   ]
  },
  {
   "cell_type": "markdown",
   "metadata": {},
   "source": [
    "Lieferdatum"
   ]
  },
  {
   "cell_type": "code",
   "execution_count": 27,
   "metadata": {},
   "outputs": [],
   "source": [
    "def delivery(t, contentlist, art_df):\n",
    "    end = ''.join(contentlist[0:pd.Series(t[t].index)[0]-2]).find('Klick')\n",
    "    txt = ''.join(contentlist[0:pd.Series(t[t].index)[0]-2])[:end-2]\n",
    "    start = txt.find('.')\n",
    "    month = txt[start+1:]\n",
    "    day = txt[:start][-2:].strip()\n",
    "    art_df['delivery_day'] = day\n",
    "    art_df['delivery_month'] = month\n",
    "    return art_df"
   ]
  },
  {
   "cell_type": "markdown",
   "metadata": {},
   "source": [
    "DeliveryID"
   ]
  },
  {
   "cell_type": "code",
   "execution_count": 28,
   "metadata": {},
   "outputs": [],
   "source": [
    "def deliveryID(art_df, file):\n",
    "    art_df['deliveryID'] = file\n",
    "    return art_df"
   ]
  },
  {
   "cell_type": "markdown",
   "metadata": {},
   "source": [
    "Bestellnummer"
   ]
  },
  {
   "cell_type": "code",
   "execution_count": 29,
   "metadata": {},
   "outputs": [],
   "source": [
    "def order_nr(t, t2, contentlist, art_df):\n",
    "    bestnr_list = []\n",
    "    for bestnr in pd.Series(t2[t2].index):\n",
    "        space = contentlist[bestnr].find(' ')\n",
    "        bestnr_list.append(contentlist[bestnr][space+1:])\n",
    "    \n",
    "    idx_artikel = pd.Series(t[t].index)\n",
    "    idx_bestellnr = pd.Series(t2[t2].index)\n",
    "    \n",
    "    bestell_list = []\n",
    "    k = -1\n",
    "    for i in range(len(idx_artikel)):\n",
    "        if k < len(idx_bestellnr)-1 and i < len(idx_artikel)-1:\n",
    "            if idx_artikel[i] > idx_bestellnr[k+1]:\n",
    "                k += 1\n",
    "        bestell_list.append(bestnr_list[k])\n",
    "    art_df['order-nr'] = bestell_list\n",
    "\n",
    "    return art_df, idx_bestellnr,bestnr_list\n",
    "    "
   ]
  },
  {
   "cell_type": "markdown",
   "metadata": {},
   "source": [
    "Hinzugefügt am"
   ]
  },
  {
   "cell_type": "code",
   "execution_count": 30,
   "metadata": {},
   "outputs": [],
   "source": [
    "def added(idx_bestellnr, contentlist, bestnr_list, art_df):\n",
    "    add_month_list = []\n",
    "    add_day_list = []\n",
    "    for idx in idx_bestellnr-1:\n",
    "        dot = contentlist[idx].find('.')\n",
    "        add_month_list.append(contentlist[idx][dot+2:])\n",
    "        add_day_list.append(contentlist[idx][:dot][-2:].strip())\n",
    "    add_df = pd.DataFrame({'order-nr.': bestnr_list, 'add_day': add_day_list, 'add_month': add_month_list})\n",
    "    art_df = art_df.join(add_df.set_index('order-nr.'), on=('order-nr'))\n",
    "    return art_df"
   ]
  },
  {
   "cell_type": "code",
   "execution_count": 31,
   "metadata": {},
   "outputs": [],
   "source": [
    "def pfand(contentlist, art_df):\n",
    "    pfand = 0.0\n",
    "    for entry in contentlist:\n",
    "        if entry[:19] == 'Eingereichtes Pfand':\n",
    "            pfand = float(entry.split(' ')[-1])\n",
    "    art_df['pfand'] = pfand\n",
    "    return art_df"
   ]
  },
  {
   "cell_type": "code",
   "execution_count": 32,
   "metadata": {},
   "outputs": [
    {
     "name": "stderr",
     "output_type": "stream",
     "text": [
      "C:\\Users\\G23236\\AppData\\Local\\Temp\\ipykernel_3256\\2114834104.py:3: FutureWarning: Calling int on a single element Series is deprecated and will raise a TypeError in the future. Use int(ser.iloc[0]) instead\n",
      "  out = isinstance(int(entry), int)\n",
      "C:\\Users\\G23236\\AppData\\Local\\Temp\\ipykernel_3256\\2114834104.py:3: FutureWarning: Calling int on a single element Series is deprecated and will raise a TypeError in the future. Use int(ser.iloc[0]) instead\n",
      "  out = isinstance(int(entry), int)\n"
     ]
    },
    {
     "name": "stderr",
     "output_type": "stream",
     "text": [
      "C:\\Users\\G23236\\AppData\\Local\\Temp\\ipykernel_3256\\2114834104.py:3: FutureWarning: Calling int on a single element Series is deprecated and will raise a TypeError in the future. Use int(ser.iloc[0]) instead\n",
      "  out = isinstance(int(entry), int)\n"
     ]
    }
   ],
   "source": [
    "\n",
    "files = glob.glob('*.pdf')\n",
    "table = pd.DataFrame(columns=['position','article','paid per unit','amount','paid per position','reduced','original price per unit','original price per position','binding','quantity','unit','delivery_day','delivery_month','deliveryID','order-nr','add_day','add_month','pfand'])\n",
    "\n",
    "for file in files:\n",
    "    art_df = pd.DataFrame()\n",
    "    contentlist = parse_pdf(file)\n",
    "    t = pd.DataFrame(contentlist).apply(lambda x: find_int(x), axis=1)\n",
    "    art_df = positions(t,contentlist, art_df)\n",
    "    art_df = delivery(t, contentlist, art_df)\n",
    "    art_df = deliveryID(art_df, file)\n",
    "    t2 = pd.DataFrame(contentlist).apply(lambda x: str(x)[5:14]=='Bestellnr', axis=1)\n",
    "    art_df, idx_bestellnr, bestnr_list = order_nr(t, t2, contentlist, art_df)\n",
    "    art_df = added(idx_bestellnr, contentlist, bestnr_list, art_df)\n",
    "    art_df = pfand(contentlist, art_df)\n",
    "    table = pd.concat([table, art_df], ignore_index=True)\n",
    "\n",
    "table.to_excel('table.xlsx')"
   ]
  },
  {
   "cell_type": "markdown",
   "metadata": {},
   "source": [
    "(Jahr)"
   ]
  },
  {
   "cell_type": "markdown",
   "metadata": {},
   "source": [
    "Häufigste Artikel\n",
    "(Preisverlauf)\n",
    "Welche Produkte kaufen wir meistens zusammen?\n",
    "Wie viel Geld geben wir pro Kategorie aus?"
   ]
  },
  {
   "cell_type": "markdown",
   "metadata": {},
   "source": [
    "Kategorien: Getränke, Küchenartikel, Hygieneartikel, Tierprodukte, Milchprodukte, Fleisch und Fleischprodukte, Tiefkühlprodukte, Fertigprodukte und Suppen, Sonstiges, Frisches Obst, Getreide- und Backwaren, Gemüse, Süßwaren, Snacks und Knabbereien"
   ]
  }
 ],
 "metadata": {
  "kernelspec": {
   "display_name": "Python 3",
   "language": "python",
   "name": "python3"
  },
  "language_info": {
   "codemirror_mode": {
    "name": "ipython",
    "version": 3
   },
   "file_extension": ".py",
   "mimetype": "text/x-python",
   "name": "python",
   "nbconvert_exporter": "python",
   "pygments_lexer": "ipython3",
   "version": "3.11.4"
  }
 },
 "nbformat": 4,
 "nbformat_minor": 2
}
