{
 "cells": [
  {
   "cell_type": "markdown",
   "metadata": {},
   "source": [
    "# 0. Import libraries <br>\n",
    "`tika` for extracting text from PDFs <br>\n",
    "`pandas` for data handling <br>\n",
    "`glob` for catching all PDFs in a folder"
   ]
  },
  {
   "cell_type": "code",
   "execution_count": 1,
   "metadata": {},
   "outputs": [],
   "source": [
    "from tika import parser\n",
    "import pandas as pd\n",
    "import glob"
   ]
  },
  {
   "cell_type": "markdown",
   "metadata": {},
   "source": [
    "# 1. Gather Data"
   ]
  },
  {
   "cell_type": "markdown",
   "metadata": {},
   "source": [
    "Write the content of the parsed pdf (`parsedPDF`) in the variable `content`, seperate the lines indicated with '\\n' and filter all lines which only contain '' or ' '."
   ]
  },
  {
   "cell_type": "code",
   "execution_count": 2,
   "metadata": {},
   "outputs": [],
   "source": [
    "def parse_pdf(file):\n",
    "    \"\"\"Return the content of the pdf with seperated lines and without empty lines.\"\"\"\n",
    "    parsedPDF = parser.from_file(file)\n",
    "    content = parsedPDF['content']\n",
    "    contentlist = content.split('\\n')\n",
    "    contentlist = list(filter(lambda a: a != '', contentlist))\n",
    "    contentlist = list(filter(lambda a: a != ' ', contentlist))\n",
    "    return contentlist"
   ]
  },
  {
   "cell_type": "markdown",
   "metadata": {},
   "source": [
    "# 2. Asses and Clean Data"
   ]
  },
  {
   "cell_type": "markdown",
   "metadata": {},
   "source": [
    "Define `find_int()` as function which checks wether an entry is of the data type integer or not."
   ]
  },
  {
   "cell_type": "code",
   "execution_count": 3,
   "metadata": {},
   "outputs": [],
   "source": [
    "def find_int(entry):\n",
    "    \"\"\"Return either True, if the input is an integer or False, if the input is no integer.\"\"\"\n",
    "    try:\n",
    "        out = isinstance(int(entry), int)\n",
    "    except:\n",
    "        out = False\n",
    "    return out"
   ]
  },
  {
   "cell_type": "markdown",
   "metadata": {},
   "source": [
    "Define `is_float()` as function which checks wether an entry is of the data type integer or not."
   ]
  },
  {
   "cell_type": "code",
   "execution_count": 4,
   "metadata": {},
   "outputs": [],
   "source": [
    "def is_float(entry):\n",
    "    \"\"\"Return either True, if the input is an float or False, if the input is no float.\"\"\"\n",
    "    try:\n",
    "        out = isinstance(float(entry), float)\n",
    "    except:\n",
    "        out = False\n",
    "    return out"
   ]
  },
  {
   "cell_type": "markdown",
   "metadata": {},
   "source": [
    "Define the function `position()` which extracts for every position in the receipt the paid price (`paid_price_list`), the original price without discount (`original_price_list`), amount purchased (`amount_list`), item name (`item_list`), packaging (`packaging_list`), if the item was reduced (`reduced_list`), paid price per unit (`paid_price_per_unit_list`), original price per unit (`original_price_per_unit_list`), amount of packaging without dimension (`unit_list`) and the dimension of packaging (`dimension_list`). All exctrated information is stored in a dataframe (`art_df`)."
   ]
  },
  {
   "cell_type": "code",
   "execution_count": 5,
   "metadata": {},
   "outputs": [],
   "source": [
    "def positions(t, contentlist, art_df):\n",
    "    \"\"\"\n",
    "    Return the all information of a position in a delivery regarding price, reduction, name, amount and packaging.\n",
    "    \n",
    "        Parameters:\n",
    "            t (dataframe): dataframe of all positions in a delivery\n",
    "            contentlist (list): content of the pdf with seperated lines and without empty lines\n",
    "            art_df (dataframe): dataframe where the details of every position can be stored with the length of `t`\n",
    "\n",
    "        Returns:\n",
    "            art_df (dataframe): dataframe with eleven additional columns for the paid price, the original price without discount,\n",
    "             amount purchased, item name, packaging, if the item was reduced, paid price per unit, original price per unit,\n",
    "             amount of packaging without dimension and the dimension of packaging.\n",
    "    \"\"\"\n",
    "    #Initialize list variables\n",
    "    paid_price_list = []\n",
    "    original_price_list = []\n",
    "    amount_list = []\n",
    "    item_list = []\n",
    "    packaging_list = []\n",
    "\n",
    "    #Find end of receipt\n",
    "    stop = 0\n",
    "    for idx, entry in enumerate(contentlist):\n",
    "        if entry.split(' ')[0] == 'Pfand':\n",
    "            stop = idx\n",
    "            search_string = 'Pfand'\n",
    "            break\n",
    "        elif entry.split(' ')[0] == 'Zwischensumme':\n",
    "            stop = idx\n",
    "            search_string = 'Zwischensumme'\n",
    "            break\n",
    "        elif entry.split(' ')[0] == 'Gesamtbetrag':\n",
    "            stop = idx\n",
    "            search_string = 'Gesamtbetrag'\n",
    "            break      \n",
    "\n",
    "    #Loop  for every position\n",
    "    idx_list = pd.Series(t[t].index)\n",
    "    idx_list = idx_list[idx_list<stop]\n",
    "\n",
    "    for position in idx_list:\n",
    "        \n",
    "        #get item name\n",
    "        if position < stop:\n",
    "            item_list.append(contentlist[position+1])\n",
    "        \n",
    "        #get amount\n",
    "        if position < stop:\n",
    "            amount_list.append(int(contentlist[position]))\n",
    "\n",
    "        #get packaging\n",
    "        if position < stop:\n",
    "            txt = contentlist[position+2].split(' ')[-1]\n",
    "            if not is_float(txt):\n",
    "                text = contentlist[position+2]\n",
    "            else:\n",
    "                text = ' '.join(contentlist[position+2].split(' ')[:-1])\n",
    "            packaging_list.append(text)\n",
    "\n",
    "        #get paid price and original price\n",
    "        if position < stop:\n",
    "            if position > pd.Series(t[t].index)[0]:\n",
    "                if contentlist[position-1][:7] == 'http://':\n",
    "                    txt = contentlist[position-2]\n",
    "                elif contentlist[position-1][:9] == 'Bestellnr':\n",
    "                    txt = contentlist[position-3]\n",
    "                else:\n",
    "                    txt = contentlist[position-1]\n",
    "                paid_price_list.append(float(txt.split(' ')[-1]))\n",
    "                if not is_float(contentlist[position-2]):\n",
    "                    original_price_list.append(float(txt.split(' ')[-1]))\n",
    "                else:\n",
    "                    original_price_list.append(float(contentlist[position-2]))\n",
    "\n",
    "    #get paid price of last article\n",
    "    last_text = ''.join(contentlist[stop-1:])\n",
    "    last_end = last_text.find(search_string)\n",
    "    last_start = last_text[:last_end].rfind(' ')\n",
    "    paid_price_list.append(float(last_text[last_start+1:last_end]))\n",
    "\n",
    "    #get original price of last article\n",
    "    for idx, entry in enumerate(contentlist):\n",
    "        if entry.split(' ')[0] == search_string:\n",
    "            check = is_float(contentlist[idx-2])\n",
    "            if not check:\n",
    "                original_price_list.append(float(last_text[last_start+1:last_end]))\n",
    "            else:\n",
    "                original_price_list.append(float(contentlist[idx-2]))\n",
    "   \n",
    "    #calculate reduced list\n",
    "    reduced_list = [i<j for i, j in zip(paid_price_list, original_price_list)]\n",
    "\n",
    "    #calculate paid price per unit\n",
    "    paid_price_per_unit_list = [round(i/j,2) for i, j in zip(paid_price_list, amount_list)]\n",
    "\n",
    "    #calculate original price per unit\n",
    "    original_price_per_unit_list = [i / j for i, j in zip(original_price_list, amount_list)]\n",
    "\n",
    "    #get the amount of packaging without dimension\n",
    "    unit_list = []\n",
    "    for package in packaging_list:\n",
    "        unit = [(i, c) for i,c in enumerate(package) if c.isdigit()]\n",
    "        if len(unit) > 0:\n",
    "            unit_list.append(package[[(i, c) for i,c in enumerate(package) if c.isdigit()][-1][0]+1:].strip())\n",
    "        else:\n",
    "            unit_list.append('')\n",
    "    \n",
    "    #get the dimension of the packaging\n",
    "    dimension_list = []\n",
    "    for package in packaging_list:\n",
    "        package = package.replace(',','.')\n",
    "        txt = [(i, c) for i,c in enumerate(package) if c.isdigit()]\n",
    "        if len(txt) > 0:\n",
    "            pack = package[:[(i, c) for i,c in enumerate(package) if c.isdigit()][-1][0]+1]\n",
    "        else:\n",
    "            pack = '1'\n",
    "        mult =  pack.find(' x ')\n",
    "        if mult > 0:\n",
    "            if is_float(pack[:mult]) and is_float(pack[mult+3:]):\n",
    "                pack = float(float(pack[:mult])*float(pack[mult+3:]))\n",
    "            else:\n",
    "                pack = float(pack.split(' ')[-1])\n",
    "        else:\n",
    "            if is_float(pack):\n",
    "                pack = float(pack)\n",
    "            else:\n",
    "                pack = float(pack.split(' ')[-1])\n",
    "        dimension_list.append(pack)\n",
    "    \n",
    "    #write all lists in dataframe\n",
    "    art_df['position'] = range(1,len(item_list)+1)\n",
    "    art_df['article'] = item_list\n",
    "    art_df['paid per unit'] = paid_price_per_unit_list\n",
    "    art_df['amount'] = amount_list\n",
    "    art_df['paid per position'] = paid_price_list\n",
    "    art_df['reduced'] = reduced_list    \n",
    "    art_df['original price per unit'] = original_price_per_unit_list\n",
    "    art_df['original price per position'] = original_price_list\n",
    "    art_df['binding'] = packaging_list\n",
    "    art_df['quantity'] = dimension_list\n",
    "    art_df['unit'] = unit_list\n",
    "\n",
    "    return art_df, idx_list"
   ]
  },
  {
   "cell_type": "markdown",
   "metadata": {},
   "source": [
    "Define the function `delivery()` which extracts the delivery date (`month` and `day`) for every delivery and stores it in the dataframe `art_df`."
   ]
  },
  {
   "cell_type": "code",
   "execution_count": 6,
   "metadata": {},
   "outputs": [],
   "source": [
    "def delivery(contentlist, art_df, idx_list):\n",
    "    \"\"\"\n",
    "    Return the day and month of the delivery\n",
    "    \n",
    "        Parameters:\n",
    "            contentlist (list): content of the pdf with seperated lines and without empty lines\n",
    "            art_df (dataframe): dataframe where the delivery date can be stored with the length of `idx_list`\n",
    "            idx_list (list): list of positions of a delivery\n",
    "\n",
    "        Returns:\n",
    "            art_df (dataframe): Dataframe with two additional columns for day and month of the delivery\n",
    "    \"\"\"\n",
    "    end = ''.join(contentlist[0:idx_list[0]-2]).find('Klick')\n",
    "    txt = ''.join(contentlist[0:idx_list[0]-2])[:end-2]\n",
    "    start = txt.find('.')\n",
    "\n",
    "    month = txt[start+1:].strip()\n",
    "    day = txt[:start][-2:].strip()\n",
    "\n",
    "    if month == 'Januar' or month == 'Janua' or month == 'Januar.':\n",
    "        month = 1\n",
    "    elif month == 'Februar' or month == 'Februa' or month == 'Februar.':\n",
    "        month = 2\n",
    "    elif month == 'März' or month == 'Mär' or month == 'März.':\n",
    "        month = 3\n",
    "    elif month == 'April' or month == 'Apri' or month == 'April.':\n",
    "        month = 4\n",
    "    elif month == 'Mai' or month == 'Ma' or month == 'Mai.':\n",
    "        month = 5\n",
    "    elif month == 'Juni' or month == 'Jun' or month == 'Juni.':\n",
    "        month = 6\n",
    "    elif month == 'Juli' or month == 'Jul' or month == 'Juli.':\n",
    "        month = 7\n",
    "    elif month == 'August' or month == 'Augus' or month == 'August.':\n",
    "        month = 8\n",
    "    elif month == 'September' or month == 'Septembe' or month == 'September.':\n",
    "        month = 9\n",
    "    elif month == 'Oktober' or month == 'Oktobe' or month == 'Oktober.':\n",
    "        month = 10\n",
    "    elif month == 'November' or month == 'Novembe' or month == 'November.':\n",
    "        month = 11\n",
    "    elif month == 'Dezember' or month == 'Dezembe' or month == 'Dezember.':\n",
    "        month = 12\n",
    "    \n",
    "    art_df['delivery_day'] = day\n",
    "    art_df['delivery_month'] = month\n",
    "\n",
    "    return art_df"
   ]
  },
  {
   "cell_type": "markdown",
   "metadata": {},
   "source": [
    "Define the function `deliveryID()` which extracts the delivery ID from the file name and stores it in the dataframe `art_df`."
   ]
  },
  {
   "cell_type": "code",
   "execution_count": 7,
   "metadata": {},
   "outputs": [],
   "source": [
    "def deliveryID(art_df, file):\n",
    "    \"\"\"Return the delivery ID from the filename.\"\"\"\n",
    "    art_df['deliveryID'] = file\n",
    "    return art_df"
   ]
  },
  {
   "cell_type": "markdown",
   "metadata": {},
   "source": [
    "Define the function `order_nr()` which extracts the order IDs from the receipts and stores it in the dataframe `art_df`."
   ]
  },
  {
   "cell_type": "code",
   "execution_count": 8,
   "metadata": {},
   "outputs": [],
   "source": [
    "def order_nr(t2, contentlist, art_df, idx_list):\n",
    "    \"\"\"\n",
    "    Return the order IDs of the delivery\n",
    "    \n",
    "        Parameters:\n",
    "            t2 (dataframe): dataframe of all orders in a delivery\n",
    "            contentlist (list): content of the pdf with seperated lines and without empty lines\n",
    "            art_df (dataframe): dataframe where the order ID can be stored with the length of `idx_list`\n",
    "            idx_list (list): list of positions of a delivery\n",
    "\n",
    "        Returns:\n",
    "            art_df (dataframe): dataframe with one additional column for order ID\n",
    "            idx_order_nr (series): series of the index of t2\n",
    "            order_nr_list (list): list of all order IDs\n",
    "    \"\"\"\n",
    "    order_nr_list = []\n",
    "    for order_nr in pd.Series(t2[t2].index):\n",
    "        space = contentlist[order_nr].find(' ')\n",
    "        order_nr_list.append(contentlist[order_nr][space+1:])\n",
    "    \n",
    "    idx_item = idx_list\n",
    "    idx_order_nr = pd.Series(t2[t2].index)\n",
    "    \n",
    "    order_list = []\n",
    "    k = -1\n",
    "    for i in range(len(idx_item)):\n",
    "        if k < len(idx_order_nr)-1 and i < len(idx_item)-1:\n",
    "            if idx_item[i] > idx_order_nr[k+1]:\n",
    "                k += 1\n",
    "        order_list.append(order_nr_list[k])\n",
    "    \n",
    "    art_df['order-nr'] = order_list\n",
    "\n",
    "    return art_df, idx_order_nr, order_nr_list\n",
    "    "
   ]
  },
  {
   "cell_type": "markdown",
   "metadata": {},
   "source": [
    "Define the function `added()` which extracts the day (`add_day_list`) and month (`add_month_list`) an order was added to the delivery and stores it in the dataframe `art_df`."
   ]
  },
  {
   "cell_type": "code",
   "execution_count": 9,
   "metadata": {},
   "outputs": [],
   "source": [
    "def added(idx_order_nr, contentlist, order_nr_list, art_df):\n",
    "    \"\"\"\n",
    "    Return the date when the order was added to the delivery\n",
    "    \n",
    "        Parameters:\n",
    "            idx_order_nr (series): series of the index of all orders \n",
    "            contentlist (list): content of the pdf with seperated lines and without empty lines\n",
    "            order_nr_list (list): list of all order IDs\n",
    "            art_df (dataframe): dataframe where the order ID can be stored with the length of `idx_list`\n",
    "\n",
    "        Returns:\n",
    "            art_df (dataframe): dataframe with two additional columns day and month of the added order\n",
    "    \"\"\"\n",
    "    add_month_list = []\n",
    "    add_day_list = []\n",
    "\n",
    "    for idx in idx_order_nr-1:\n",
    "\n",
    "        dot = contentlist[idx].find('.')\n",
    "        month = contentlist[idx][dot+2:].strip()\n",
    "        \n",
    "        if month == 'Januar' or month == 'Janua' or month == 'Januar.':\n",
    "            month = 1\n",
    "        elif month == 'Februar' or month == 'Februa' or month == 'Februar.':\n",
    "            month = 2\n",
    "        elif month == 'März' or month == 'Mär' or month == 'März.':\n",
    "            month = 3\n",
    "        elif month == 'April' or month == 'Apri' or month == 'April.':\n",
    "            month = 4\n",
    "        elif month == 'Mai' or month == 'Ma' or month == 'Mai.':\n",
    "            month = 5\n",
    "        elif month == 'Juni' or month == 'Jun' or month == 'Juni.':\n",
    "            month = 6\n",
    "        elif month == 'Juli' or month == 'Jul' or month == 'Juli.':\n",
    "            month = 7\n",
    "        elif month == 'August' or month == 'Augus' or month == 'August.':\n",
    "            month = 8\n",
    "        elif month == 'September' or month == 'Septembe' or month == 'September.':\n",
    "            month = 9\n",
    "        elif month == 'Oktober' or month == 'Oktobe' or month == 'Oktober.':\n",
    "            month = 10\n",
    "        elif month == 'November' or month == 'Novembe' or month == 'November.':\n",
    "            month = 11\n",
    "        elif month == 'Dezember' or month == 'Dezembe' or month == 'Dezember.':\n",
    "            month = 12\n",
    "        \n",
    "        add_month_list.append(month)\n",
    "        add_day_list.append(contentlist[idx][:dot][-2:].strip())\n",
    "    \n",
    "    add_df = pd.DataFrame({'order-nr.': order_nr_list, 'add_day': add_day_list, 'add_month': add_month_list})\n",
    "\n",
    "    art_df = art_df.join(add_df.set_index('order-nr.'), on=('order-nr'))\n",
    "\n",
    "    return art_df"
   ]
  },
  {
   "cell_type": "markdown",
   "metadata": {},
   "source": [
    "Define the function `pfand()` which extracts the deposit (`pfand`) and stores it in the dataframe `art_df`."
   ]
  },
  {
   "cell_type": "code",
   "execution_count": 10,
   "metadata": {},
   "outputs": [],
   "source": [
    "def pfand(contentlist, art_df):\n",
    "    \"\"\"Return the amount of deposit paid back in the delivery.\"\"\"\n",
    "    pfand = 0.0\n",
    "    for entry in contentlist:\n",
    "        if entry[:19] == 'Eingereichtes Pfand':\n",
    "            pfand = float(entry.split(' ')[-1])\n",
    "    \n",
    "    art_df['pfand'] = pfand\n",
    "    \n",
    "    return art_df"
   ]
  },
  {
   "cell_type": "markdown",
   "metadata": {},
   "source": [
    "The main routine which executes all defined functions in the right order for all PDFs and stores the resulting dataframe (`table`) in an excel file."
   ]
  },
  {
   "cell_type": "code",
   "execution_count": 11,
   "metadata": {},
   "outputs": [
    {
     "data": {
      "application/vnd.jupyter.widget-view+json": {
       "model_id": "1f9b272097f0497bb453ac8884269294",
       "version_major": 2,
       "version_minor": 0
      },
      "text/plain": [
       "  0%|          | 0/194 [00:00<?, ?it/s]"
      ]
     },
     "metadata": {},
     "output_type": "display_data"
    },
    {
     "name": "stdout",
     "output_type": "stream",
     "text": [
      "1.pdf\n"
     ]
    },
    {
     "name": "stderr",
     "output_type": "stream",
     "text": [
      "2023-10-23 12:45:16,009 [MainThread  ] [WARNI]  Failed to see startup log message; retrying...\n",
      "C:\\Users\\G23236\\AppData\\Local\\Temp\\ipykernel_22220\\584116684.py:4: FutureWarning: Calling int on a single element Series is deprecated and will raise a TypeError in the future. Use int(ser.iloc[0]) instead\n",
      "  out = isinstance(int(entry), int)\n",
      "C:\\Users\\G23236\\AppData\\Local\\Temp\\ipykernel_22220\\584116684.py:4: FutureWarning: Calling int on a single element Series is deprecated and will raise a TypeError in the future. Use int(ser.iloc[0]) instead\n",
      "  out = isinstance(int(entry), int)\n",
      "C:\\Users\\G23236\\AppData\\Local\\Temp\\ipykernel_22220\\584116684.py:4: FutureWarning: Calling int on a single element Series is deprecated and will raise a TypeError in the future. Use int(ser.iloc[0]) instead\n",
      "  out = isinstance(int(entry), int)\n"
     ]
    },
    {
     "name": "stdout",
     "output_type": "stream",
     "text": [
      "10.pdf\n",
      "100.pdf\n",
      "101.pdf\n"
     ]
    },
    {
     "name": "stderr",
     "output_type": "stream",
     "text": [
      "C:\\Users\\G23236\\AppData\\Local\\Temp\\ipykernel_22220\\584116684.py:4: FutureWarning: Calling int on a single element Series is deprecated and will raise a TypeError in the future. Use int(ser.iloc[0]) instead\n",
      "  out = isinstance(int(entry), int)\n",
      "C:\\Users\\G23236\\AppData\\Local\\Temp\\ipykernel_22220\\584116684.py:4: FutureWarning: Calling int on a single element Series is deprecated and will raise a TypeError in the future. Use int(ser.iloc[0]) instead\n",
      "  out = isinstance(int(entry), int)\n",
      "C:\\Users\\G23236\\AppData\\Local\\Temp\\ipykernel_22220\\584116684.py:4: FutureWarning: Calling int on a single element Series is deprecated and will raise a TypeError in the future. Use int(ser.iloc[0]) instead\n",
      "  out = isinstance(int(entry), int)\n"
     ]
    },
    {
     "name": "stdout",
     "output_type": "stream",
     "text": [
      "102.pdf\n",
      "103.pdf\n",
      "104.pdf\n"
     ]
    },
    {
     "name": "stderr",
     "output_type": "stream",
     "text": [
      "C:\\Users\\G23236\\AppData\\Local\\Temp\\ipykernel_22220\\584116684.py:4: FutureWarning: Calling int on a single element Series is deprecated and will raise a TypeError in the future. Use int(ser.iloc[0]) instead\n",
      "  out = isinstance(int(entry), int)\n",
      "C:\\Users\\G23236\\AppData\\Local\\Temp\\ipykernel_22220\\584116684.py:4: FutureWarning: Calling int on a single element Series is deprecated and will raise a TypeError in the future. Use int(ser.iloc[0]) instead\n",
      "  out = isinstance(int(entry), int)\n"
     ]
    },
    {
     "name": "stdout",
     "output_type": "stream",
     "text": [
      "105.pdf\n",
      "106.pdf\n"
     ]
    },
    {
     "name": "stderr",
     "output_type": "stream",
     "text": [
      "C:\\Users\\G23236\\AppData\\Local\\Temp\\ipykernel_22220\\584116684.py:4: FutureWarning: Calling int on a single element Series is deprecated and will raise a TypeError in the future. Use int(ser.iloc[0]) instead\n",
      "  out = isinstance(int(entry), int)\n",
      "C:\\Users\\G23236\\AppData\\Local\\Temp\\ipykernel_22220\\584116684.py:4: FutureWarning: Calling int on a single element Series is deprecated and will raise a TypeError in the future. Use int(ser.iloc[0]) instead\n",
      "  out = isinstance(int(entry), int)\n",
      "C:\\Users\\G23236\\AppData\\Local\\Temp\\ipykernel_22220\\584116684.py:4: FutureWarning: Calling int on a single element Series is deprecated and will raise a TypeError in the future. Use int(ser.iloc[0]) instead\n",
      "  out = isinstance(int(entry), int)\n"
     ]
    },
    {
     "name": "stdout",
     "output_type": "stream",
     "text": [
      "107.pdf\n",
      "108.pdf\n",
      "109.pdf\n"
     ]
    },
    {
     "name": "stderr",
     "output_type": "stream",
     "text": [
      "C:\\Users\\G23236\\AppData\\Local\\Temp\\ipykernel_22220\\584116684.py:4: FutureWarning: Calling int on a single element Series is deprecated and will raise a TypeError in the future. Use int(ser.iloc[0]) instead\n",
      "  out = isinstance(int(entry), int)\n",
      "C:\\Users\\G23236\\AppData\\Local\\Temp\\ipykernel_22220\\584116684.py:4: FutureWarning: Calling int on a single element Series is deprecated and will raise a TypeError in the future. Use int(ser.iloc[0]) instead\n",
      "  out = isinstance(int(entry), int)\n",
      "C:\\Users\\G23236\\AppData\\Local\\Temp\\ipykernel_22220\\584116684.py:4: FutureWarning: Calling int on a single element Series is deprecated and will raise a TypeError in the future. Use int(ser.iloc[0]) instead\n",
      "  out = isinstance(int(entry), int)\n",
      "C:\\Users\\G23236\\AppData\\Local\\Temp\\ipykernel_22220\\584116684.py:4: FutureWarning: Calling int on a single element Series is deprecated and will raise a TypeError in the future. Use int(ser.iloc[0]) instead\n",
      "  out = isinstance(int(entry), int)\n"
     ]
    },
    {
     "name": "stdout",
     "output_type": "stream",
     "text": [
      "11.pdf\n",
      "110.pdf\n",
      "111.pdf\n",
      "112.pdf\n",
      "113.pdf\n",
      "114.pdf\n"
     ]
    },
    {
     "name": "stderr",
     "output_type": "stream",
     "text": [
      "C:\\Users\\G23236\\AppData\\Local\\Temp\\ipykernel_22220\\584116684.py:4: FutureWarning: Calling int on a single element Series is deprecated and will raise a TypeError in the future. Use int(ser.iloc[0]) instead\n",
      "  out = isinstance(int(entry), int)\n",
      "C:\\Users\\G23236\\AppData\\Local\\Temp\\ipykernel_22220\\584116684.py:4: FutureWarning: Calling int on a single element Series is deprecated and will raise a TypeError in the future. Use int(ser.iloc[0]) instead\n",
      "  out = isinstance(int(entry), int)\n",
      "C:\\Users\\G23236\\AppData\\Local\\Temp\\ipykernel_22220\\584116684.py:4: FutureWarning: Calling int on a single element Series is deprecated and will raise a TypeError in the future. Use int(ser.iloc[0]) instead\n",
      "  out = isinstance(int(entry), int)\n"
     ]
    },
    {
     "name": "stdout",
     "output_type": "stream",
     "text": [
      "115.pdf\n",
      "116.pdf\n",
      "117.pdf\n"
     ]
    },
    {
     "name": "stderr",
     "output_type": "stream",
     "text": [
      "C:\\Users\\G23236\\AppData\\Local\\Temp\\ipykernel_22220\\584116684.py:4: FutureWarning: Calling int on a single element Series is deprecated and will raise a TypeError in the future. Use int(ser.iloc[0]) instead\n",
      "  out = isinstance(int(entry), int)\n",
      "C:\\Users\\G23236\\AppData\\Local\\Temp\\ipykernel_22220\\584116684.py:4: FutureWarning: Calling int on a single element Series is deprecated and will raise a TypeError in the future. Use int(ser.iloc[0]) instead\n",
      "  out = isinstance(int(entry), int)\n",
      "C:\\Users\\G23236\\AppData\\Local\\Temp\\ipykernel_22220\\584116684.py:4: FutureWarning: Calling int on a single element Series is deprecated and will raise a TypeError in the future. Use int(ser.iloc[0]) instead\n",
      "  out = isinstance(int(entry), int)\n"
     ]
    },
    {
     "name": "stdout",
     "output_type": "stream",
     "text": [
      "118.pdf\n",
      "119.pdf\n",
      "12.pdf\n",
      "120.pdf\n"
     ]
    },
    {
     "name": "stderr",
     "output_type": "stream",
     "text": [
      "C:\\Users\\G23236\\AppData\\Local\\Temp\\ipykernel_22220\\584116684.py:4: FutureWarning: Calling int on a single element Series is deprecated and will raise a TypeError in the future. Use int(ser.iloc[0]) instead\n",
      "  out = isinstance(int(entry), int)\n",
      "C:\\Users\\G23236\\AppData\\Local\\Temp\\ipykernel_22220\\584116684.py:4: FutureWarning: Calling int on a single element Series is deprecated and will raise a TypeError in the future. Use int(ser.iloc[0]) instead\n",
      "  out = isinstance(int(entry), int)\n",
      "C:\\Users\\G23236\\AppData\\Local\\Temp\\ipykernel_22220\\584116684.py:4: FutureWarning: Calling int on a single element Series is deprecated and will raise a TypeError in the future. Use int(ser.iloc[0]) instead\n",
      "  out = isinstance(int(entry), int)\n",
      "C:\\Users\\G23236\\AppData\\Local\\Temp\\ipykernel_22220\\584116684.py:4: FutureWarning: Calling int on a single element Series is deprecated and will raise a TypeError in the future. Use int(ser.iloc[0]) instead\n",
      "  out = isinstance(int(entry), int)\n"
     ]
    },
    {
     "name": "stdout",
     "output_type": "stream",
     "text": [
      "121.pdf\n",
      "122.pdf\n",
      "123.pdf\n",
      "124.pdf\n",
      "125.pdf\n"
     ]
    },
    {
     "name": "stderr",
     "output_type": "stream",
     "text": [
      "C:\\Users\\G23236\\AppData\\Local\\Temp\\ipykernel_22220\\584116684.py:4: FutureWarning: Calling int on a single element Series is deprecated and will raise a TypeError in the future. Use int(ser.iloc[0]) instead\n",
      "  out = isinstance(int(entry), int)\n",
      "C:\\Users\\G23236\\AppData\\Local\\Temp\\ipykernel_22220\\584116684.py:4: FutureWarning: Calling int on a single element Series is deprecated and will raise a TypeError in the future. Use int(ser.iloc[0]) instead\n",
      "  out = isinstance(int(entry), int)\n",
      "C:\\Users\\G23236\\AppData\\Local\\Temp\\ipykernel_22220\\584116684.py:4: FutureWarning: Calling int on a single element Series is deprecated and will raise a TypeError in the future. Use int(ser.iloc[0]) instead\n",
      "  out = isinstance(int(entry), int)\n",
      "C:\\Users\\G23236\\AppData\\Local\\Temp\\ipykernel_22220\\584116684.py:4: FutureWarning: Calling int on a single element Series is deprecated and will raise a TypeError in the future. Use int(ser.iloc[0]) instead\n",
      "  out = isinstance(int(entry), int)\n",
      "C:\\Users\\G23236\\AppData\\Local\\Temp\\ipykernel_22220\\584116684.py:4: FutureWarning: Calling int on a single element Series is deprecated and will raise a TypeError in the future. Use int(ser.iloc[0]) instead\n",
      "  out = isinstance(int(entry), int)\n",
      "C:\\Users\\G23236\\AppData\\Local\\Temp\\ipykernel_22220\\584116684.py:4: FutureWarning: Calling int on a single element Series is deprecated and will raise a TypeError in the future. Use int(ser.iloc[0]) instead\n",
      "  out = isinstance(int(entry), int)\n",
      "C:\\Users\\G23236\\AppData\\Local\\Temp\\ipykernel_22220\\584116684.py:4: FutureWarning: Calling int on a single element Series is deprecated and will raise a TypeError in the future. Use int(ser.iloc[0]) instead\n",
      "  out = isinstance(int(entry), int)\n",
      "C:\\Users\\G23236\\AppData\\Local\\Temp\\ipykernel_22220\\584116684.py:4: FutureWarning: Calling int on a single element Series is deprecated and will raise a TypeError in the future. Use int(ser.iloc[0]) instead\n",
      "  out = isinstance(int(entry), int)\n"
     ]
    },
    {
     "name": "stdout",
     "output_type": "stream",
     "text": [
      "126.pdf\n",
      "127.pdf\n",
      "128.pdf\n",
      "129.pdf\n"
     ]
    },
    {
     "name": "stderr",
     "output_type": "stream",
     "text": [
      "C:\\Users\\G23236\\AppData\\Local\\Temp\\ipykernel_22220\\584116684.py:4: FutureWarning: Calling int on a single element Series is deprecated and will raise a TypeError in the future. Use int(ser.iloc[0]) instead\n",
      "  out = isinstance(int(entry), int)\n",
      "C:\\Users\\G23236\\AppData\\Local\\Temp\\ipykernel_22220\\584116684.py:4: FutureWarning: Calling int on a single element Series is deprecated and will raise a TypeError in the future. Use int(ser.iloc[0]) instead\n",
      "  out = isinstance(int(entry), int)\n",
      "C:\\Users\\G23236\\AppData\\Local\\Temp\\ipykernel_22220\\584116684.py:4: FutureWarning: Calling int on a single element Series is deprecated and will raise a TypeError in the future. Use int(ser.iloc[0]) instead\n",
      "  out = isinstance(int(entry), int)\n",
      "C:\\Users\\G23236\\AppData\\Local\\Temp\\ipykernel_22220\\584116684.py:4: FutureWarning: Calling int on a single element Series is deprecated and will raise a TypeError in the future. Use int(ser.iloc[0]) instead\n",
      "  out = isinstance(int(entry), int)\n"
     ]
    },
    {
     "name": "stdout",
     "output_type": "stream",
     "text": [
      "13.pdf\n",
      "130.pdf\n",
      "131.pdf\n",
      "132.pdf\n"
     ]
    },
    {
     "name": "stderr",
     "output_type": "stream",
     "text": [
      "C:\\Users\\G23236\\AppData\\Local\\Temp\\ipykernel_22220\\584116684.py:4: FutureWarning: Calling int on a single element Series is deprecated and will raise a TypeError in the future. Use int(ser.iloc[0]) instead\n",
      "  out = isinstance(int(entry), int)\n",
      "C:\\Users\\G23236\\AppData\\Local\\Temp\\ipykernel_22220\\584116684.py:4: FutureWarning: Calling int on a single element Series is deprecated and will raise a TypeError in the future. Use int(ser.iloc[0]) instead\n",
      "  out = isinstance(int(entry), int)\n",
      "C:\\Users\\G23236\\AppData\\Local\\Temp\\ipykernel_22220\\584116684.py:4: FutureWarning: Calling int on a single element Series is deprecated and will raise a TypeError in the future. Use int(ser.iloc[0]) instead\n",
      "  out = isinstance(int(entry), int)\n",
      "C:\\Users\\G23236\\AppData\\Local\\Temp\\ipykernel_22220\\584116684.py:4: FutureWarning: Calling int on a single element Series is deprecated and will raise a TypeError in the future. Use int(ser.iloc[0]) instead\n",
      "  out = isinstance(int(entry), int)\n"
     ]
    },
    {
     "name": "stdout",
     "output_type": "stream",
     "text": [
      "133.pdf\n",
      "134.pdf\n",
      "135.pdf\n",
      "136.pdf\n"
     ]
    },
    {
     "name": "stderr",
     "output_type": "stream",
     "text": [
      "C:\\Users\\G23236\\AppData\\Local\\Temp\\ipykernel_22220\\584116684.py:4: FutureWarning: Calling int on a single element Series is deprecated and will raise a TypeError in the future. Use int(ser.iloc[0]) instead\n",
      "  out = isinstance(int(entry), int)\n",
      "C:\\Users\\G23236\\AppData\\Local\\Temp\\ipykernel_22220\\584116684.py:4: FutureWarning: Calling int on a single element Series is deprecated and will raise a TypeError in the future. Use int(ser.iloc[0]) instead\n",
      "  out = isinstance(int(entry), int)\n",
      "C:\\Users\\G23236\\AppData\\Local\\Temp\\ipykernel_22220\\584116684.py:4: FutureWarning: Calling int on a single element Series is deprecated and will raise a TypeError in the future. Use int(ser.iloc[0]) instead\n",
      "  out = isinstance(int(entry), int)\n",
      "C:\\Users\\G23236\\AppData\\Local\\Temp\\ipykernel_22220\\584116684.py:4: FutureWarning: Calling int on a single element Series is deprecated and will raise a TypeError in the future. Use int(ser.iloc[0]) instead\n",
      "  out = isinstance(int(entry), int)\n",
      "C:\\Users\\G23236\\AppData\\Local\\Temp\\ipykernel_22220\\584116684.py:4: FutureWarning: Calling int on a single element Series is deprecated and will raise a TypeError in the future. Use int(ser.iloc[0]) instead\n",
      "  out = isinstance(int(entry), int)\n"
     ]
    },
    {
     "name": "stdout",
     "output_type": "stream",
     "text": [
      "137.pdf\n",
      "138.pdf\n",
      "139.pdf\n",
      "14.pdf\n",
      "140.pdf\n"
     ]
    },
    {
     "name": "stderr",
     "output_type": "stream",
     "text": [
      "C:\\Users\\G23236\\AppData\\Local\\Temp\\ipykernel_22220\\584116684.py:4: FutureWarning: Calling int on a single element Series is deprecated and will raise a TypeError in the future. Use int(ser.iloc[0]) instead\n",
      "  out = isinstance(int(entry), int)\n",
      "C:\\Users\\G23236\\AppData\\Local\\Temp\\ipykernel_22220\\584116684.py:4: FutureWarning: Calling int on a single element Series is deprecated and will raise a TypeError in the future. Use int(ser.iloc[0]) instead\n",
      "  out = isinstance(int(entry), int)\n",
      "C:\\Users\\G23236\\AppData\\Local\\Temp\\ipykernel_22220\\584116684.py:4: FutureWarning: Calling int on a single element Series is deprecated and will raise a TypeError in the future. Use int(ser.iloc[0]) instead\n",
      "  out = isinstance(int(entry), int)\n",
      "C:\\Users\\G23236\\AppData\\Local\\Temp\\ipykernel_22220\\584116684.py:4: FutureWarning: Calling int on a single element Series is deprecated and will raise a TypeError in the future. Use int(ser.iloc[0]) instead\n",
      "  out = isinstance(int(entry), int)\n"
     ]
    },
    {
     "name": "stdout",
     "output_type": "stream",
     "text": [
      "141.pdf\n",
      "142.pdf\n",
      "143.pdf\n",
      "144.pdf\n",
      "145.pdf\n",
      "146.pdf\n",
      "147.pdf\n"
     ]
    },
    {
     "name": "stderr",
     "output_type": "stream",
     "text": [
      "C:\\Users\\G23236\\AppData\\Local\\Temp\\ipykernel_22220\\584116684.py:4: FutureWarning: Calling int on a single element Series is deprecated and will raise a TypeError in the future. Use int(ser.iloc[0]) instead\n",
      "  out = isinstance(int(entry), int)\n",
      "C:\\Users\\G23236\\AppData\\Local\\Temp\\ipykernel_22220\\584116684.py:4: FutureWarning: Calling int on a single element Series is deprecated and will raise a TypeError in the future. Use int(ser.iloc[0]) instead\n",
      "  out = isinstance(int(entry), int)\n",
      "C:\\Users\\G23236\\AppData\\Local\\Temp\\ipykernel_22220\\584116684.py:4: FutureWarning: Calling int on a single element Series is deprecated and will raise a TypeError in the future. Use int(ser.iloc[0]) instead\n",
      "  out = isinstance(int(entry), int)\n",
      "C:\\Users\\G23236\\AppData\\Local\\Temp\\ipykernel_22220\\584116684.py:4: FutureWarning: Calling int on a single element Series is deprecated and will raise a TypeError in the future. Use int(ser.iloc[0]) instead\n",
      "  out = isinstance(int(entry), int)\n"
     ]
    },
    {
     "name": "stdout",
     "output_type": "stream",
     "text": [
      "148.pdf\n",
      "149.pdf\n",
      "15.pdf\n",
      "150.pdf\n"
     ]
    },
    {
     "name": "stderr",
     "output_type": "stream",
     "text": [
      "C:\\Users\\G23236\\AppData\\Local\\Temp\\ipykernel_22220\\584116684.py:4: FutureWarning: Calling int on a single element Series is deprecated and will raise a TypeError in the future. Use int(ser.iloc[0]) instead\n",
      "  out = isinstance(int(entry), int)\n",
      "C:\\Users\\G23236\\AppData\\Local\\Temp\\ipykernel_22220\\584116684.py:4: FutureWarning: Calling int on a single element Series is deprecated and will raise a TypeError in the future. Use int(ser.iloc[0]) instead\n",
      "  out = isinstance(int(entry), int)\n",
      "C:\\Users\\G23236\\AppData\\Local\\Temp\\ipykernel_22220\\584116684.py:4: FutureWarning: Calling int on a single element Series is deprecated and will raise a TypeError in the future. Use int(ser.iloc[0]) instead\n",
      "  out = isinstance(int(entry), int)\n",
      "C:\\Users\\G23236\\AppData\\Local\\Temp\\ipykernel_22220\\584116684.py:4: FutureWarning: Calling int on a single element Series is deprecated and will raise a TypeError in the future. Use int(ser.iloc[0]) instead\n",
      "  out = isinstance(int(entry), int)\n",
      "C:\\Users\\G23236\\AppData\\Local\\Temp\\ipykernel_22220\\584116684.py:4: FutureWarning: Calling int on a single element Series is deprecated and will raise a TypeError in the future. Use int(ser.iloc[0]) instead\n",
      "  out = isinstance(int(entry), int)\n",
      "C:\\Users\\G23236\\AppData\\Local\\Temp\\ipykernel_22220\\584116684.py:4: FutureWarning: Calling int on a single element Series is deprecated and will raise a TypeError in the future. Use int(ser.iloc[0]) instead\n",
      "  out = isinstance(int(entry), int)\n",
      "C:\\Users\\G23236\\AppData\\Local\\Temp\\ipykernel_22220\\584116684.py:4: FutureWarning: Calling int on a single element Series is deprecated and will raise a TypeError in the future. Use int(ser.iloc[0]) instead\n",
      "  out = isinstance(int(entry), int)\n",
      "C:\\Users\\G23236\\AppData\\Local\\Temp\\ipykernel_22220\\584116684.py:4: FutureWarning: Calling int on a single element Series is deprecated and will raise a TypeError in the future. Use int(ser.iloc[0]) instead\n",
      "  out = isinstance(int(entry), int)\n"
     ]
    },
    {
     "name": "stdout",
     "output_type": "stream",
     "text": [
      "151.pdf\n",
      "152.pdf\n",
      "153.pdf\n",
      "154.pdf\n",
      "155.pdf\n"
     ]
    },
    {
     "name": "stderr",
     "output_type": "stream",
     "text": [
      "C:\\Users\\G23236\\AppData\\Local\\Temp\\ipykernel_22220\\584116684.py:4: FutureWarning: Calling int on a single element Series is deprecated and will raise a TypeError in the future. Use int(ser.iloc[0]) instead\n",
      "  out = isinstance(int(entry), int)\n",
      "C:\\Users\\G23236\\AppData\\Local\\Temp\\ipykernel_22220\\584116684.py:4: FutureWarning: Calling int on a single element Series is deprecated and will raise a TypeError in the future. Use int(ser.iloc[0]) instead\n",
      "  out = isinstance(int(entry), int)\n",
      "C:\\Users\\G23236\\AppData\\Local\\Temp\\ipykernel_22220\\584116684.py:4: FutureWarning: Calling int on a single element Series is deprecated and will raise a TypeError in the future. Use int(ser.iloc[0]) instead\n",
      "  out = isinstance(int(entry), int)\n",
      "C:\\Users\\G23236\\AppData\\Local\\Temp\\ipykernel_22220\\584116684.py:4: FutureWarning: Calling int on a single element Series is deprecated and will raise a TypeError in the future. Use int(ser.iloc[0]) instead\n",
      "  out = isinstance(int(entry), int)\n"
     ]
    },
    {
     "name": "stdout",
     "output_type": "stream",
     "text": [
      "156.pdf\n",
      "157.pdf\n",
      "158.pdf\n",
      "159.pdf\n",
      "16.pdf\n",
      "160.pdf\n",
      "161.pdf\n"
     ]
    },
    {
     "name": "stderr",
     "output_type": "stream",
     "text": [
      "C:\\Users\\G23236\\AppData\\Local\\Temp\\ipykernel_22220\\584116684.py:4: FutureWarning: Calling int on a single element Series is deprecated and will raise a TypeError in the future. Use int(ser.iloc[0]) instead\n",
      "  out = isinstance(int(entry), int)\n",
      "C:\\Users\\G23236\\AppData\\Local\\Temp\\ipykernel_22220\\584116684.py:4: FutureWarning: Calling int on a single element Series is deprecated and will raise a TypeError in the future. Use int(ser.iloc[0]) instead\n",
      "  out = isinstance(int(entry), int)\n",
      "C:\\Users\\G23236\\AppData\\Local\\Temp\\ipykernel_22220\\584116684.py:4: FutureWarning: Calling int on a single element Series is deprecated and will raise a TypeError in the future. Use int(ser.iloc[0]) instead\n",
      "  out = isinstance(int(entry), int)\n",
      "C:\\Users\\G23236\\AppData\\Local\\Temp\\ipykernel_22220\\584116684.py:4: FutureWarning: Calling int on a single element Series is deprecated and will raise a TypeError in the future. Use int(ser.iloc[0]) instead\n",
      "  out = isinstance(int(entry), int)\n"
     ]
    },
    {
     "name": "stdout",
     "output_type": "stream",
     "text": [
      "162.pdf\n",
      "163.pdf\n",
      "164.pdf\n"
     ]
    },
    {
     "name": "stderr",
     "output_type": "stream",
     "text": [
      "C:\\Users\\G23236\\AppData\\Local\\Temp\\ipykernel_22220\\584116684.py:4: FutureWarning: Calling int on a single element Series is deprecated and will raise a TypeError in the future. Use int(ser.iloc[0]) instead\n",
      "  out = isinstance(int(entry), int)\n",
      "C:\\Users\\G23236\\AppData\\Local\\Temp\\ipykernel_22220\\584116684.py:4: FutureWarning: Calling int on a single element Series is deprecated and will raise a TypeError in the future. Use int(ser.iloc[0]) instead\n",
      "  out = isinstance(int(entry), int)\n",
      "C:\\Users\\G23236\\AppData\\Local\\Temp\\ipykernel_22220\\584116684.py:4: FutureWarning: Calling int on a single element Series is deprecated and will raise a TypeError in the future. Use int(ser.iloc[0]) instead\n",
      "  out = isinstance(int(entry), int)\n",
      "C:\\Users\\G23236\\AppData\\Local\\Temp\\ipykernel_22220\\584116684.py:4: FutureWarning: Calling int on a single element Series is deprecated and will raise a TypeError in the future. Use int(ser.iloc[0]) instead\n",
      "  out = isinstance(int(entry), int)\n"
     ]
    },
    {
     "name": "stdout",
     "output_type": "stream",
     "text": [
      "165.pdf\n",
      "166.pdf\n",
      "167.pdf\n",
      "168.pdf\n",
      "169.pdf\n"
     ]
    },
    {
     "name": "stderr",
     "output_type": "stream",
     "text": [
      "C:\\Users\\G23236\\AppData\\Local\\Temp\\ipykernel_22220\\584116684.py:4: FutureWarning: Calling int on a single element Series is deprecated and will raise a TypeError in the future. Use int(ser.iloc[0]) instead\n",
      "  out = isinstance(int(entry), int)\n",
      "C:\\Users\\G23236\\AppData\\Local\\Temp\\ipykernel_22220\\584116684.py:4: FutureWarning: Calling int on a single element Series is deprecated and will raise a TypeError in the future. Use int(ser.iloc[0]) instead\n",
      "  out = isinstance(int(entry), int)\n",
      "C:\\Users\\G23236\\AppData\\Local\\Temp\\ipykernel_22220\\584116684.py:4: FutureWarning: Calling int on a single element Series is deprecated and will raise a TypeError in the future. Use int(ser.iloc[0]) instead\n",
      "  out = isinstance(int(entry), int)\n",
      "C:\\Users\\G23236\\AppData\\Local\\Temp\\ipykernel_22220\\584116684.py:4: FutureWarning: Calling int on a single element Series is deprecated and will raise a TypeError in the future. Use int(ser.iloc[0]) instead\n",
      "  out = isinstance(int(entry), int)\n"
     ]
    },
    {
     "name": "stdout",
     "output_type": "stream",
     "text": [
      "17.pdf\n",
      "170.pdf\n",
      "171.pdf\n",
      "172.pdf\n"
     ]
    },
    {
     "name": "stderr",
     "output_type": "stream",
     "text": [
      "C:\\Users\\G23236\\AppData\\Local\\Temp\\ipykernel_22220\\584116684.py:4: FutureWarning: Calling int on a single element Series is deprecated and will raise a TypeError in the future. Use int(ser.iloc[0]) instead\n",
      "  out = isinstance(int(entry), int)\n",
      "C:\\Users\\G23236\\AppData\\Local\\Temp\\ipykernel_22220\\584116684.py:4: FutureWarning: Calling int on a single element Series is deprecated and will raise a TypeError in the future. Use int(ser.iloc[0]) instead\n",
      "  out = isinstance(int(entry), int)\n",
      "C:\\Users\\G23236\\AppData\\Local\\Temp\\ipykernel_22220\\584116684.py:4: FutureWarning: Calling int on a single element Series is deprecated and will raise a TypeError in the future. Use int(ser.iloc[0]) instead\n",
      "  out = isinstance(int(entry), int)\n",
      "C:\\Users\\G23236\\AppData\\Local\\Temp\\ipykernel_22220\\584116684.py:4: FutureWarning: Calling int on a single element Series is deprecated and will raise a TypeError in the future. Use int(ser.iloc[0]) instead\n",
      "  out = isinstance(int(entry), int)\n"
     ]
    },
    {
     "name": "stdout",
     "output_type": "stream",
     "text": [
      "173.pdf\n",
      "174.pdf\n",
      "175.pdf\n",
      "176.pdf\n"
     ]
    },
    {
     "name": "stderr",
     "output_type": "stream",
     "text": [
      "C:\\Users\\G23236\\AppData\\Local\\Temp\\ipykernel_22220\\584116684.py:4: FutureWarning: Calling int on a single element Series is deprecated and will raise a TypeError in the future. Use int(ser.iloc[0]) instead\n",
      "  out = isinstance(int(entry), int)\n",
      "C:\\Users\\G23236\\AppData\\Local\\Temp\\ipykernel_22220\\584116684.py:4: FutureWarning: Calling int on a single element Series is deprecated and will raise a TypeError in the future. Use int(ser.iloc[0]) instead\n",
      "  out = isinstance(int(entry), int)\n",
      "C:\\Users\\G23236\\AppData\\Local\\Temp\\ipykernel_22220\\584116684.py:4: FutureWarning: Calling int on a single element Series is deprecated and will raise a TypeError in the future. Use int(ser.iloc[0]) instead\n",
      "  out = isinstance(int(entry), int)\n",
      "C:\\Users\\G23236\\AppData\\Local\\Temp\\ipykernel_22220\\584116684.py:4: FutureWarning: Calling int on a single element Series is deprecated and will raise a TypeError in the future. Use int(ser.iloc[0]) instead\n",
      "  out = isinstance(int(entry), int)\n",
      "C:\\Users\\G23236\\AppData\\Local\\Temp\\ipykernel_22220\\584116684.py:4: FutureWarning: Calling int on a single element Series is deprecated and will raise a TypeError in the future. Use int(ser.iloc[0]) instead\n",
      "  out = isinstance(int(entry), int)\n"
     ]
    },
    {
     "name": "stdout",
     "output_type": "stream",
     "text": [
      "177.pdf\n",
      "178.pdf\n",
      "179.pdf\n",
      "18.pdf\n"
     ]
    },
    {
     "name": "stderr",
     "output_type": "stream",
     "text": [
      "C:\\Users\\G23236\\AppData\\Local\\Temp\\ipykernel_22220\\584116684.py:4: FutureWarning: Calling int on a single element Series is deprecated and will raise a TypeError in the future. Use int(ser.iloc[0]) instead\n",
      "  out = isinstance(int(entry), int)\n",
      "C:\\Users\\G23236\\AppData\\Local\\Temp\\ipykernel_22220\\584116684.py:4: FutureWarning: Calling int on a single element Series is deprecated and will raise a TypeError in the future. Use int(ser.iloc[0]) instead\n",
      "  out = isinstance(int(entry), int)\n",
      "C:\\Users\\G23236\\AppData\\Local\\Temp\\ipykernel_22220\\584116684.py:4: FutureWarning: Calling int on a single element Series is deprecated and will raise a TypeError in the future. Use int(ser.iloc[0]) instead\n",
      "  out = isinstance(int(entry), int)\n",
      "C:\\Users\\G23236\\AppData\\Local\\Temp\\ipykernel_22220\\584116684.py:4: FutureWarning: Calling int on a single element Series is deprecated and will raise a TypeError in the future. Use int(ser.iloc[0]) instead\n",
      "  out = isinstance(int(entry), int)\n"
     ]
    },
    {
     "name": "stdout",
     "output_type": "stream",
     "text": [
      "180.pdf\n",
      "181.pdf\n",
      "182.pdf\n",
      "183.pdf\n",
      "184.pdf\n"
     ]
    },
    {
     "name": "stderr",
     "output_type": "stream",
     "text": [
      "C:\\Users\\G23236\\AppData\\Local\\Temp\\ipykernel_22220\\584116684.py:4: FutureWarning: Calling int on a single element Series is deprecated and will raise a TypeError in the future. Use int(ser.iloc[0]) instead\n",
      "  out = isinstance(int(entry), int)\n",
      "C:\\Users\\G23236\\AppData\\Local\\Temp\\ipykernel_22220\\584116684.py:4: FutureWarning: Calling int on a single element Series is deprecated and will raise a TypeError in the future. Use int(ser.iloc[0]) instead\n",
      "  out = isinstance(int(entry), int)\n",
      "C:\\Users\\G23236\\AppData\\Local\\Temp\\ipykernel_22220\\584116684.py:4: FutureWarning: Calling int on a single element Series is deprecated and will raise a TypeError in the future. Use int(ser.iloc[0]) instead\n",
      "  out = isinstance(int(entry), int)\n",
      "C:\\Users\\G23236\\AppData\\Local\\Temp\\ipykernel_22220\\584116684.py:4: FutureWarning: Calling int on a single element Series is deprecated and will raise a TypeError in the future. Use int(ser.iloc[0]) instead\n",
      "  out = isinstance(int(entry), int)\n",
      "C:\\Users\\G23236\\AppData\\Local\\Temp\\ipykernel_22220\\584116684.py:4: FutureWarning: Calling int on a single element Series is deprecated and will raise a TypeError in the future. Use int(ser.iloc[0]) instead\n",
      "  out = isinstance(int(entry), int)\n"
     ]
    },
    {
     "name": "stdout",
     "output_type": "stream",
     "text": [
      "185.pdf\n",
      "186.pdf\n",
      "187.pdf\n",
      "188.pdf\n"
     ]
    },
    {
     "name": "stderr",
     "output_type": "stream",
     "text": [
      "C:\\Users\\G23236\\AppData\\Local\\Temp\\ipykernel_22220\\584116684.py:4: FutureWarning: Calling int on a single element Series is deprecated and will raise a TypeError in the future. Use int(ser.iloc[0]) instead\n",
      "  out = isinstance(int(entry), int)\n",
      "C:\\Users\\G23236\\AppData\\Local\\Temp\\ipykernel_22220\\584116684.py:4: FutureWarning: Calling int on a single element Series is deprecated and will raise a TypeError in the future. Use int(ser.iloc[0]) instead\n",
      "  out = isinstance(int(entry), int)\n",
      "C:\\Users\\G23236\\AppData\\Local\\Temp\\ipykernel_22220\\584116684.py:4: FutureWarning: Calling int on a single element Series is deprecated and will raise a TypeError in the future. Use int(ser.iloc[0]) instead\n",
      "  out = isinstance(int(entry), int)\n",
      "C:\\Users\\G23236\\AppData\\Local\\Temp\\ipykernel_22220\\584116684.py:4: FutureWarning: Calling int on a single element Series is deprecated and will raise a TypeError in the future. Use int(ser.iloc[0]) instead\n",
      "  out = isinstance(int(entry), int)\n",
      "C:\\Users\\G23236\\AppData\\Local\\Temp\\ipykernel_22220\\584116684.py:4: FutureWarning: Calling int on a single element Series is deprecated and will raise a TypeError in the future. Use int(ser.iloc[0]) instead\n",
      "  out = isinstance(int(entry), int)\n"
     ]
    },
    {
     "name": "stdout",
     "output_type": "stream",
     "text": [
      "189.pdf\n",
      "19.pdf\n",
      "190.pdf\n",
      "191.pdf\n",
      "192.pdf\n"
     ]
    },
    {
     "name": "stderr",
     "output_type": "stream",
     "text": [
      "C:\\Users\\G23236\\AppData\\Local\\Temp\\ipykernel_22220\\584116684.py:4: FutureWarning: Calling int on a single element Series is deprecated and will raise a TypeError in the future. Use int(ser.iloc[0]) instead\n",
      "  out = isinstance(int(entry), int)\n",
      "C:\\Users\\G23236\\AppData\\Local\\Temp\\ipykernel_22220\\584116684.py:4: FutureWarning: Calling int on a single element Series is deprecated and will raise a TypeError in the future. Use int(ser.iloc[0]) instead\n",
      "  out = isinstance(int(entry), int)\n",
      "C:\\Users\\G23236\\AppData\\Local\\Temp\\ipykernel_22220\\584116684.py:4: FutureWarning: Calling int on a single element Series is deprecated and will raise a TypeError in the future. Use int(ser.iloc[0]) instead\n",
      "  out = isinstance(int(entry), int)\n",
      "C:\\Users\\G23236\\AppData\\Local\\Temp\\ipykernel_22220\\584116684.py:4: FutureWarning: Calling int on a single element Series is deprecated and will raise a TypeError in the future. Use int(ser.iloc[0]) instead\n",
      "  out = isinstance(int(entry), int)\n",
      "C:\\Users\\G23236\\AppData\\Local\\Temp\\ipykernel_22220\\584116684.py:4: FutureWarning: Calling int on a single element Series is deprecated and will raise a TypeError in the future. Use int(ser.iloc[0]) instead\n",
      "  out = isinstance(int(entry), int)\n"
     ]
    },
    {
     "name": "stdout",
     "output_type": "stream",
     "text": [
      "193.pdf\n",
      "194.pdf\n",
      "2.pdf\n",
      "20.pdf\n",
      "21.pdf\n"
     ]
    },
    {
     "name": "stderr",
     "output_type": "stream",
     "text": [
      "C:\\Users\\G23236\\AppData\\Local\\Temp\\ipykernel_22220\\584116684.py:4: FutureWarning: Calling int on a single element Series is deprecated and will raise a TypeError in the future. Use int(ser.iloc[0]) instead\n",
      "  out = isinstance(int(entry), int)\n",
      "C:\\Users\\G23236\\AppData\\Local\\Temp\\ipykernel_22220\\584116684.py:4: FutureWarning: Calling int on a single element Series is deprecated and will raise a TypeError in the future. Use int(ser.iloc[0]) instead\n",
      "  out = isinstance(int(entry), int)\n",
      "C:\\Users\\G23236\\AppData\\Local\\Temp\\ipykernel_22220\\584116684.py:4: FutureWarning: Calling int on a single element Series is deprecated and will raise a TypeError in the future. Use int(ser.iloc[0]) instead\n",
      "  out = isinstance(int(entry), int)\n",
      "C:\\Users\\G23236\\AppData\\Local\\Temp\\ipykernel_22220\\584116684.py:4: FutureWarning: Calling int on a single element Series is deprecated and will raise a TypeError in the future. Use int(ser.iloc[0]) instead\n",
      "  out = isinstance(int(entry), int)\n",
      "C:\\Users\\G23236\\AppData\\Local\\Temp\\ipykernel_22220\\584116684.py:4: FutureWarning: Calling int on a single element Series is deprecated and will raise a TypeError in the future. Use int(ser.iloc[0]) instead\n",
      "  out = isinstance(int(entry), int)\n"
     ]
    },
    {
     "name": "stdout",
     "output_type": "stream",
     "text": [
      "22.pdf\n",
      "23.pdf\n",
      "24.pdf\n",
      "25.pdf\n",
      "26.pdf\n"
     ]
    },
    {
     "name": "stderr",
     "output_type": "stream",
     "text": [
      "C:\\Users\\G23236\\AppData\\Local\\Temp\\ipykernel_22220\\584116684.py:4: FutureWarning: Calling int on a single element Series is deprecated and will raise a TypeError in the future. Use int(ser.iloc[0]) instead\n",
      "  out = isinstance(int(entry), int)\n",
      "C:\\Users\\G23236\\AppData\\Local\\Temp\\ipykernel_22220\\584116684.py:4: FutureWarning: Calling int on a single element Series is deprecated and will raise a TypeError in the future. Use int(ser.iloc[0]) instead\n",
      "  out = isinstance(int(entry), int)\n",
      "C:\\Users\\G23236\\AppData\\Local\\Temp\\ipykernel_22220\\584116684.py:4: FutureWarning: Calling int on a single element Series is deprecated and will raise a TypeError in the future. Use int(ser.iloc[0]) instead\n",
      "  out = isinstance(int(entry), int)\n",
      "C:\\Users\\G23236\\AppData\\Local\\Temp\\ipykernel_22220\\584116684.py:4: FutureWarning: Calling int on a single element Series is deprecated and will raise a TypeError in the future. Use int(ser.iloc[0]) instead\n",
      "  out = isinstance(int(entry), int)\n",
      "C:\\Users\\G23236\\AppData\\Local\\Temp\\ipykernel_22220\\584116684.py:4: FutureWarning: Calling int on a single element Series is deprecated and will raise a TypeError in the future. Use int(ser.iloc[0]) instead\n",
      "  out = isinstance(int(entry), int)\n"
     ]
    },
    {
     "name": "stdout",
     "output_type": "stream",
     "text": [
      "27.pdf\n",
      "28.pdf\n",
      "29.pdf\n",
      "3.pdf\n"
     ]
    },
    {
     "name": "stderr",
     "output_type": "stream",
     "text": [
      "C:\\Users\\G23236\\AppData\\Local\\Temp\\ipykernel_22220\\584116684.py:4: FutureWarning: Calling int on a single element Series is deprecated and will raise a TypeError in the future. Use int(ser.iloc[0]) instead\n",
      "  out = isinstance(int(entry), int)\n",
      "C:\\Users\\G23236\\AppData\\Local\\Temp\\ipykernel_22220\\584116684.py:4: FutureWarning: Calling int on a single element Series is deprecated and will raise a TypeError in the future. Use int(ser.iloc[0]) instead\n",
      "  out = isinstance(int(entry), int)\n",
      "C:\\Users\\G23236\\AppData\\Local\\Temp\\ipykernel_22220\\584116684.py:4: FutureWarning: Calling int on a single element Series is deprecated and will raise a TypeError in the future. Use int(ser.iloc[0]) instead\n",
      "  out = isinstance(int(entry), int)\n",
      "C:\\Users\\G23236\\AppData\\Local\\Temp\\ipykernel_22220\\584116684.py:4: FutureWarning: Calling int on a single element Series is deprecated and will raise a TypeError in the future. Use int(ser.iloc[0]) instead\n",
      "  out = isinstance(int(entry), int)\n",
      "C:\\Users\\G23236\\AppData\\Local\\Temp\\ipykernel_22220\\584116684.py:4: FutureWarning: Calling int on a single element Series is deprecated and will raise a TypeError in the future. Use int(ser.iloc[0]) instead\n",
      "  out = isinstance(int(entry), int)\n"
     ]
    },
    {
     "name": "stdout",
     "output_type": "stream",
     "text": [
      "30.pdf\n",
      "31.pdf\n",
      "32.pdf\n",
      "33.pdf\n",
      "34.pdf\n"
     ]
    },
    {
     "name": "stderr",
     "output_type": "stream",
     "text": [
      "C:\\Users\\G23236\\AppData\\Local\\Temp\\ipykernel_22220\\584116684.py:4: FutureWarning: Calling int on a single element Series is deprecated and will raise a TypeError in the future. Use int(ser.iloc[0]) instead\n",
      "  out = isinstance(int(entry), int)\n",
      "C:\\Users\\G23236\\AppData\\Local\\Temp\\ipykernel_22220\\584116684.py:4: FutureWarning: Calling int on a single element Series is deprecated and will raise a TypeError in the future. Use int(ser.iloc[0]) instead\n",
      "  out = isinstance(int(entry), int)\n",
      "C:\\Users\\G23236\\AppData\\Local\\Temp\\ipykernel_22220\\584116684.py:4: FutureWarning: Calling int on a single element Series is deprecated and will raise a TypeError in the future. Use int(ser.iloc[0]) instead\n",
      "  out = isinstance(int(entry), int)\n",
      "C:\\Users\\G23236\\AppData\\Local\\Temp\\ipykernel_22220\\584116684.py:4: FutureWarning: Calling int on a single element Series is deprecated and will raise a TypeError in the future. Use int(ser.iloc[0]) instead\n",
      "  out = isinstance(int(entry), int)\n"
     ]
    },
    {
     "name": "stdout",
     "output_type": "stream",
     "text": [
      "35.pdf\n",
      "36.pdf\n",
      "37.pdf\n",
      "38.pdf\n",
      "39.pdf\n"
     ]
    },
    {
     "name": "stderr",
     "output_type": "stream",
     "text": [
      "C:\\Users\\G23236\\AppData\\Local\\Temp\\ipykernel_22220\\584116684.py:4: FutureWarning: Calling int on a single element Series is deprecated and will raise a TypeError in the future. Use int(ser.iloc[0]) instead\n",
      "  out = isinstance(int(entry), int)\n",
      "C:\\Users\\G23236\\AppData\\Local\\Temp\\ipykernel_22220\\584116684.py:4: FutureWarning: Calling int on a single element Series is deprecated and will raise a TypeError in the future. Use int(ser.iloc[0]) instead\n",
      "  out = isinstance(int(entry), int)\n",
      "C:\\Users\\G23236\\AppData\\Local\\Temp\\ipykernel_22220\\584116684.py:4: FutureWarning: Calling int on a single element Series is deprecated and will raise a TypeError in the future. Use int(ser.iloc[0]) instead\n",
      "  out = isinstance(int(entry), int)\n",
      "C:\\Users\\G23236\\AppData\\Local\\Temp\\ipykernel_22220\\584116684.py:4: FutureWarning: Calling int on a single element Series is deprecated and will raise a TypeError in the future. Use int(ser.iloc[0]) instead\n",
      "  out = isinstance(int(entry), int)\n"
     ]
    },
    {
     "name": "stdout",
     "output_type": "stream",
     "text": [
      "4.pdf\n",
      "40.pdf\n",
      "41.pdf\n",
      "42.pdf\n"
     ]
    },
    {
     "name": "stderr",
     "output_type": "stream",
     "text": [
      "C:\\Users\\G23236\\AppData\\Local\\Temp\\ipykernel_22220\\584116684.py:4: FutureWarning: Calling int on a single element Series is deprecated and will raise a TypeError in the future. Use int(ser.iloc[0]) instead\n",
      "  out = isinstance(int(entry), int)\n",
      "C:\\Users\\G23236\\AppData\\Local\\Temp\\ipykernel_22220\\584116684.py:4: FutureWarning: Calling int on a single element Series is deprecated and will raise a TypeError in the future. Use int(ser.iloc[0]) instead\n",
      "  out = isinstance(int(entry), int)\n",
      "C:\\Users\\G23236\\AppData\\Local\\Temp\\ipykernel_22220\\584116684.py:4: FutureWarning: Calling int on a single element Series is deprecated and will raise a TypeError in the future. Use int(ser.iloc[0]) instead\n",
      "  out = isinstance(int(entry), int)\n",
      "C:\\Users\\G23236\\AppData\\Local\\Temp\\ipykernel_22220\\584116684.py:4: FutureWarning: Calling int on a single element Series is deprecated and will raise a TypeError in the future. Use int(ser.iloc[0]) instead\n",
      "  out = isinstance(int(entry), int)\n"
     ]
    },
    {
     "name": "stdout",
     "output_type": "stream",
     "text": [
      "43.pdf\n",
      "44.pdf\n",
      "45.pdf\n",
      "46.pdf\n"
     ]
    },
    {
     "name": "stderr",
     "output_type": "stream",
     "text": [
      "C:\\Users\\G23236\\AppData\\Local\\Temp\\ipykernel_22220\\584116684.py:4: FutureWarning: Calling int on a single element Series is deprecated and will raise a TypeError in the future. Use int(ser.iloc[0]) instead\n",
      "  out = isinstance(int(entry), int)\n",
      "C:\\Users\\G23236\\AppData\\Local\\Temp\\ipykernel_22220\\584116684.py:4: FutureWarning: Calling int on a single element Series is deprecated and will raise a TypeError in the future. Use int(ser.iloc[0]) instead\n",
      "  out = isinstance(int(entry), int)\n",
      "C:\\Users\\G23236\\AppData\\Local\\Temp\\ipykernel_22220\\584116684.py:4: FutureWarning: Calling int on a single element Series is deprecated and will raise a TypeError in the future. Use int(ser.iloc[0]) instead\n",
      "  out = isinstance(int(entry), int)\n",
      "C:\\Users\\G23236\\AppData\\Local\\Temp\\ipykernel_22220\\584116684.py:4: FutureWarning: Calling int on a single element Series is deprecated and will raise a TypeError in the future. Use int(ser.iloc[0]) instead\n",
      "  out = isinstance(int(entry), int)\n"
     ]
    },
    {
     "name": "stdout",
     "output_type": "stream",
     "text": [
      "47.pdf\n",
      "48.pdf\n",
      "49.pdf\n",
      "5.pdf\n"
     ]
    },
    {
     "name": "stderr",
     "output_type": "stream",
     "text": [
      "C:\\Users\\G23236\\AppData\\Local\\Temp\\ipykernel_22220\\584116684.py:4: FutureWarning: Calling int on a single element Series is deprecated and will raise a TypeError in the future. Use int(ser.iloc[0]) instead\n",
      "  out = isinstance(int(entry), int)\n",
      "C:\\Users\\G23236\\AppData\\Local\\Temp\\ipykernel_22220\\584116684.py:4: FutureWarning: Calling int on a single element Series is deprecated and will raise a TypeError in the future. Use int(ser.iloc[0]) instead\n",
      "  out = isinstance(int(entry), int)\n",
      "C:\\Users\\G23236\\AppData\\Local\\Temp\\ipykernel_22220\\584116684.py:4: FutureWarning: Calling int on a single element Series is deprecated and will raise a TypeError in the future. Use int(ser.iloc[0]) instead\n",
      "  out = isinstance(int(entry), int)\n",
      "C:\\Users\\G23236\\AppData\\Local\\Temp\\ipykernel_22220\\584116684.py:4: FutureWarning: Calling int on a single element Series is deprecated and will raise a TypeError in the future. Use int(ser.iloc[0]) instead\n",
      "  out = isinstance(int(entry), int)\n"
     ]
    },
    {
     "name": "stdout",
     "output_type": "stream",
     "text": [
      "50.pdf\n",
      "51.pdf\n",
      "52.pdf\n",
      "53.pdf\n"
     ]
    },
    {
     "name": "stderr",
     "output_type": "stream",
     "text": [
      "C:\\Users\\G23236\\AppData\\Local\\Temp\\ipykernel_22220\\584116684.py:4: FutureWarning: Calling int on a single element Series is deprecated and will raise a TypeError in the future. Use int(ser.iloc[0]) instead\n",
      "  out = isinstance(int(entry), int)\n",
      "C:\\Users\\G23236\\AppData\\Local\\Temp\\ipykernel_22220\\584116684.py:4: FutureWarning: Calling int on a single element Series is deprecated and will raise a TypeError in the future. Use int(ser.iloc[0]) instead\n",
      "  out = isinstance(int(entry), int)\n",
      "C:\\Users\\G23236\\AppData\\Local\\Temp\\ipykernel_22220\\584116684.py:4: FutureWarning: Calling int on a single element Series is deprecated and will raise a TypeError in the future. Use int(ser.iloc[0]) instead\n",
      "  out = isinstance(int(entry), int)\n",
      "C:\\Users\\G23236\\AppData\\Local\\Temp\\ipykernel_22220\\584116684.py:4: FutureWarning: Calling int on a single element Series is deprecated and will raise a TypeError in the future. Use int(ser.iloc[0]) instead\n",
      "  out = isinstance(int(entry), int)\n"
     ]
    },
    {
     "name": "stdout",
     "output_type": "stream",
     "text": [
      "54.pdf\n",
      "55.pdf\n",
      "56.pdf\n",
      "57.pdf\n"
     ]
    },
    {
     "name": "stderr",
     "output_type": "stream",
     "text": [
      "C:\\Users\\G23236\\AppData\\Local\\Temp\\ipykernel_22220\\584116684.py:4: FutureWarning: Calling int on a single element Series is deprecated and will raise a TypeError in the future. Use int(ser.iloc[0]) instead\n",
      "  out = isinstance(int(entry), int)\n",
      "C:\\Users\\G23236\\AppData\\Local\\Temp\\ipykernel_22220\\584116684.py:4: FutureWarning: Calling int on a single element Series is deprecated and will raise a TypeError in the future. Use int(ser.iloc[0]) instead\n",
      "  out = isinstance(int(entry), int)\n",
      "C:\\Users\\G23236\\AppData\\Local\\Temp\\ipykernel_22220\\584116684.py:4: FutureWarning: Calling int on a single element Series is deprecated and will raise a TypeError in the future. Use int(ser.iloc[0]) instead\n",
      "  out = isinstance(int(entry), int)\n",
      "C:\\Users\\G23236\\AppData\\Local\\Temp\\ipykernel_22220\\584116684.py:4: FutureWarning: Calling int on a single element Series is deprecated and will raise a TypeError in the future. Use int(ser.iloc[0]) instead\n",
      "  out = isinstance(int(entry), int)\n"
     ]
    },
    {
     "name": "stdout",
     "output_type": "stream",
     "text": [
      "58.pdf\n",
      "59.pdf\n",
      "6.pdf\n",
      "60.pdf\n"
     ]
    },
    {
     "name": "stderr",
     "output_type": "stream",
     "text": [
      "C:\\Users\\G23236\\AppData\\Local\\Temp\\ipykernel_22220\\584116684.py:4: FutureWarning: Calling int on a single element Series is deprecated and will raise a TypeError in the future. Use int(ser.iloc[0]) instead\n",
      "  out = isinstance(int(entry), int)\n",
      "C:\\Users\\G23236\\AppData\\Local\\Temp\\ipykernel_22220\\584116684.py:4: FutureWarning: Calling int on a single element Series is deprecated and will raise a TypeError in the future. Use int(ser.iloc[0]) instead\n",
      "  out = isinstance(int(entry), int)\n",
      "C:\\Users\\G23236\\AppData\\Local\\Temp\\ipykernel_22220\\584116684.py:4: FutureWarning: Calling int on a single element Series is deprecated and will raise a TypeError in the future. Use int(ser.iloc[0]) instead\n",
      "  out = isinstance(int(entry), int)\n",
      "C:\\Users\\G23236\\AppData\\Local\\Temp\\ipykernel_22220\\584116684.py:4: FutureWarning: Calling int on a single element Series is deprecated and will raise a TypeError in the future. Use int(ser.iloc[0]) instead\n",
      "  out = isinstance(int(entry), int)\n"
     ]
    },
    {
     "name": "stdout",
     "output_type": "stream",
     "text": [
      "61.pdf\n",
      "62.pdf\n",
      "63.pdf\n",
      "64.pdf\n",
      "65.pdf\n"
     ]
    },
    {
     "name": "stderr",
     "output_type": "stream",
     "text": [
      "C:\\Users\\G23236\\AppData\\Local\\Temp\\ipykernel_22220\\584116684.py:4: FutureWarning: Calling int on a single element Series is deprecated and will raise a TypeError in the future. Use int(ser.iloc[0]) instead\n",
      "  out = isinstance(int(entry), int)\n",
      "C:\\Users\\G23236\\AppData\\Local\\Temp\\ipykernel_22220\\584116684.py:4: FutureWarning: Calling int on a single element Series is deprecated and will raise a TypeError in the future. Use int(ser.iloc[0]) instead\n",
      "  out = isinstance(int(entry), int)\n",
      "C:\\Users\\G23236\\AppData\\Local\\Temp\\ipykernel_22220\\584116684.py:4: FutureWarning: Calling int on a single element Series is deprecated and will raise a TypeError in the future. Use int(ser.iloc[0]) instead\n",
      "  out = isinstance(int(entry), int)\n",
      "C:\\Users\\G23236\\AppData\\Local\\Temp\\ipykernel_22220\\584116684.py:4: FutureWarning: Calling int on a single element Series is deprecated and will raise a TypeError in the future. Use int(ser.iloc[0]) instead\n",
      "  out = isinstance(int(entry), int)\n"
     ]
    },
    {
     "name": "stdout",
     "output_type": "stream",
     "text": [
      "66.pdf\n",
      "67.pdf\n",
      "68.pdf\n",
      "69.pdf\n"
     ]
    },
    {
     "name": "stderr",
     "output_type": "stream",
     "text": [
      "C:\\Users\\G23236\\AppData\\Local\\Temp\\ipykernel_22220\\584116684.py:4: FutureWarning: Calling int on a single element Series is deprecated and will raise a TypeError in the future. Use int(ser.iloc[0]) instead\n",
      "  out = isinstance(int(entry), int)\n",
      "C:\\Users\\G23236\\AppData\\Local\\Temp\\ipykernel_22220\\584116684.py:4: FutureWarning: Calling int on a single element Series is deprecated and will raise a TypeError in the future. Use int(ser.iloc[0]) instead\n",
      "  out = isinstance(int(entry), int)\n",
      "C:\\Users\\G23236\\AppData\\Local\\Temp\\ipykernel_22220\\584116684.py:4: FutureWarning: Calling int on a single element Series is deprecated and will raise a TypeError in the future. Use int(ser.iloc[0]) instead\n",
      "  out = isinstance(int(entry), int)\n",
      "C:\\Users\\G23236\\AppData\\Local\\Temp\\ipykernel_22220\\584116684.py:4: FutureWarning: Calling int on a single element Series is deprecated and will raise a TypeError in the future. Use int(ser.iloc[0]) instead\n",
      "  out = isinstance(int(entry), int)\n"
     ]
    },
    {
     "name": "stdout",
     "output_type": "stream",
     "text": [
      "7.pdf\n",
      "70.pdf\n",
      "71.pdf\n",
      "72.pdf\n"
     ]
    },
    {
     "name": "stderr",
     "output_type": "stream",
     "text": [
      "C:\\Users\\G23236\\AppData\\Local\\Temp\\ipykernel_22220\\584116684.py:4: FutureWarning: Calling int on a single element Series is deprecated and will raise a TypeError in the future. Use int(ser.iloc[0]) instead\n",
      "  out = isinstance(int(entry), int)\n",
      "C:\\Users\\G23236\\AppData\\Local\\Temp\\ipykernel_22220\\584116684.py:4: FutureWarning: Calling int on a single element Series is deprecated and will raise a TypeError in the future. Use int(ser.iloc[0]) instead\n",
      "  out = isinstance(int(entry), int)\n",
      "C:\\Users\\G23236\\AppData\\Local\\Temp\\ipykernel_22220\\584116684.py:4: FutureWarning: Calling int on a single element Series is deprecated and will raise a TypeError in the future. Use int(ser.iloc[0]) instead\n",
      "  out = isinstance(int(entry), int)\n",
      "C:\\Users\\G23236\\AppData\\Local\\Temp\\ipykernel_22220\\584116684.py:4: FutureWarning: Calling int on a single element Series is deprecated and will raise a TypeError in the future. Use int(ser.iloc[0]) instead\n",
      "  out = isinstance(int(entry), int)\n"
     ]
    },
    {
     "name": "stdout",
     "output_type": "stream",
     "text": [
      "73.pdf\n",
      "74.pdf\n",
      "75.pdf\n",
      "76.pdf\n"
     ]
    },
    {
     "name": "stderr",
     "output_type": "stream",
     "text": [
      "C:\\Users\\G23236\\AppData\\Local\\Temp\\ipykernel_22220\\584116684.py:4: FutureWarning: Calling int on a single element Series is deprecated and will raise a TypeError in the future. Use int(ser.iloc[0]) instead\n",
      "  out = isinstance(int(entry), int)\n",
      "C:\\Users\\G23236\\AppData\\Local\\Temp\\ipykernel_22220\\584116684.py:4: FutureWarning: Calling int on a single element Series is deprecated and will raise a TypeError in the future. Use int(ser.iloc[0]) instead\n",
      "  out = isinstance(int(entry), int)\n",
      "C:\\Users\\G23236\\AppData\\Local\\Temp\\ipykernel_22220\\584116684.py:4: FutureWarning: Calling int on a single element Series is deprecated and will raise a TypeError in the future. Use int(ser.iloc[0]) instead\n",
      "  out = isinstance(int(entry), int)\n",
      "C:\\Users\\G23236\\AppData\\Local\\Temp\\ipykernel_22220\\584116684.py:4: FutureWarning: Calling int on a single element Series is deprecated and will raise a TypeError in the future. Use int(ser.iloc[0]) instead\n",
      "  out = isinstance(int(entry), int)\n"
     ]
    },
    {
     "name": "stdout",
     "output_type": "stream",
     "text": [
      "77.pdf\n",
      "78.pdf\n",
      "79.pdf\n",
      "8.pdf\n"
     ]
    },
    {
     "name": "stderr",
     "output_type": "stream",
     "text": [
      "C:\\Users\\G23236\\AppData\\Local\\Temp\\ipykernel_22220\\584116684.py:4: FutureWarning: Calling int on a single element Series is deprecated and will raise a TypeError in the future. Use int(ser.iloc[0]) instead\n",
      "  out = isinstance(int(entry), int)\n",
      "C:\\Users\\G23236\\AppData\\Local\\Temp\\ipykernel_22220\\584116684.py:4: FutureWarning: Calling int on a single element Series is deprecated and will raise a TypeError in the future. Use int(ser.iloc[0]) instead\n",
      "  out = isinstance(int(entry), int)\n",
      "C:\\Users\\G23236\\AppData\\Local\\Temp\\ipykernel_22220\\584116684.py:4: FutureWarning: Calling int on a single element Series is deprecated and will raise a TypeError in the future. Use int(ser.iloc[0]) instead\n",
      "  out = isinstance(int(entry), int)\n",
      "C:\\Users\\G23236\\AppData\\Local\\Temp\\ipykernel_22220\\584116684.py:4: FutureWarning: Calling int on a single element Series is deprecated and will raise a TypeError in the future. Use int(ser.iloc[0]) instead\n",
      "  out = isinstance(int(entry), int)\n"
     ]
    },
    {
     "name": "stdout",
     "output_type": "stream",
     "text": [
      "80.pdf\n",
      "81.pdf\n",
      "82.pdf\n",
      "83.pdf\n"
     ]
    },
    {
     "name": "stderr",
     "output_type": "stream",
     "text": [
      "C:\\Users\\G23236\\AppData\\Local\\Temp\\ipykernel_22220\\584116684.py:4: FutureWarning: Calling int on a single element Series is deprecated and will raise a TypeError in the future. Use int(ser.iloc[0]) instead\n",
      "  out = isinstance(int(entry), int)\n",
      "C:\\Users\\G23236\\AppData\\Local\\Temp\\ipykernel_22220\\584116684.py:4: FutureWarning: Calling int on a single element Series is deprecated and will raise a TypeError in the future. Use int(ser.iloc[0]) instead\n",
      "  out = isinstance(int(entry), int)\n",
      "C:\\Users\\G23236\\AppData\\Local\\Temp\\ipykernel_22220\\584116684.py:4: FutureWarning: Calling int on a single element Series is deprecated and will raise a TypeError in the future. Use int(ser.iloc[0]) instead\n",
      "  out = isinstance(int(entry), int)\n",
      "C:\\Users\\G23236\\AppData\\Local\\Temp\\ipykernel_22220\\584116684.py:4: FutureWarning: Calling int on a single element Series is deprecated and will raise a TypeError in the future. Use int(ser.iloc[0]) instead\n",
      "  out = isinstance(int(entry), int)\n"
     ]
    },
    {
     "name": "stdout",
     "output_type": "stream",
     "text": [
      "84.pdf\n",
      "85.pdf\n",
      "86.pdf\n",
      "87.pdf\n"
     ]
    },
    {
     "name": "stderr",
     "output_type": "stream",
     "text": [
      "C:\\Users\\G23236\\AppData\\Local\\Temp\\ipykernel_22220\\584116684.py:4: FutureWarning: Calling int on a single element Series is deprecated and will raise a TypeError in the future. Use int(ser.iloc[0]) instead\n",
      "  out = isinstance(int(entry), int)\n",
      "C:\\Users\\G23236\\AppData\\Local\\Temp\\ipykernel_22220\\584116684.py:4: FutureWarning: Calling int on a single element Series is deprecated and will raise a TypeError in the future. Use int(ser.iloc[0]) instead\n",
      "  out = isinstance(int(entry), int)\n",
      "C:\\Users\\G23236\\AppData\\Local\\Temp\\ipykernel_22220\\584116684.py:4: FutureWarning: Calling int on a single element Series is deprecated and will raise a TypeError in the future. Use int(ser.iloc[0]) instead\n",
      "  out = isinstance(int(entry), int)\n",
      "C:\\Users\\G23236\\AppData\\Local\\Temp\\ipykernel_22220\\584116684.py:4: FutureWarning: Calling int on a single element Series is deprecated and will raise a TypeError in the future. Use int(ser.iloc[0]) instead\n",
      "  out = isinstance(int(entry), int)\n"
     ]
    },
    {
     "name": "stdout",
     "output_type": "stream",
     "text": [
      "88.pdf\n",
      "89.pdf\n",
      "9.pdf\n",
      "90.pdf\n"
     ]
    },
    {
     "name": "stderr",
     "output_type": "stream",
     "text": [
      "C:\\Users\\G23236\\AppData\\Local\\Temp\\ipykernel_22220\\584116684.py:4: FutureWarning: Calling int on a single element Series is deprecated and will raise a TypeError in the future. Use int(ser.iloc[0]) instead\n",
      "  out = isinstance(int(entry), int)\n",
      "C:\\Users\\G23236\\AppData\\Local\\Temp\\ipykernel_22220\\584116684.py:4: FutureWarning: Calling int on a single element Series is deprecated and will raise a TypeError in the future. Use int(ser.iloc[0]) instead\n",
      "  out = isinstance(int(entry), int)\n",
      "C:\\Users\\G23236\\AppData\\Local\\Temp\\ipykernel_22220\\584116684.py:4: FutureWarning: Calling int on a single element Series is deprecated and will raise a TypeError in the future. Use int(ser.iloc[0]) instead\n",
      "  out = isinstance(int(entry), int)\n",
      "C:\\Users\\G23236\\AppData\\Local\\Temp\\ipykernel_22220\\584116684.py:4: FutureWarning: Calling int on a single element Series is deprecated and will raise a TypeError in the future. Use int(ser.iloc[0]) instead\n",
      "  out = isinstance(int(entry), int)\n"
     ]
    },
    {
     "name": "stdout",
     "output_type": "stream",
     "text": [
      "91.pdf\n",
      "92.pdf\n",
      "93.pdf\n",
      "94.pdf\n",
      "95.pdf\n"
     ]
    },
    {
     "name": "stderr",
     "output_type": "stream",
     "text": [
      "C:\\Users\\G23236\\AppData\\Local\\Temp\\ipykernel_22220\\584116684.py:4: FutureWarning: Calling int on a single element Series is deprecated and will raise a TypeError in the future. Use int(ser.iloc[0]) instead\n",
      "  out = isinstance(int(entry), int)\n",
      "C:\\Users\\G23236\\AppData\\Local\\Temp\\ipykernel_22220\\584116684.py:4: FutureWarning: Calling int on a single element Series is deprecated and will raise a TypeError in the future. Use int(ser.iloc[0]) instead\n",
      "  out = isinstance(int(entry), int)\n",
      "C:\\Users\\G23236\\AppData\\Local\\Temp\\ipykernel_22220\\584116684.py:4: FutureWarning: Calling int on a single element Series is deprecated and will raise a TypeError in the future. Use int(ser.iloc[0]) instead\n",
      "  out = isinstance(int(entry), int)\n",
      "C:\\Users\\G23236\\AppData\\Local\\Temp\\ipykernel_22220\\584116684.py:4: FutureWarning: Calling int on a single element Series is deprecated and will raise a TypeError in the future. Use int(ser.iloc[0]) instead\n",
      "  out = isinstance(int(entry), int)\n",
      "C:\\Users\\G23236\\AppData\\Local\\Temp\\ipykernel_22220\\584116684.py:4: FutureWarning: Calling int on a single element Series is deprecated and will raise a TypeError in the future. Use int(ser.iloc[0]) instead\n",
      "  out = isinstance(int(entry), int)\n",
      "C:\\Users\\G23236\\AppData\\Local\\Temp\\ipykernel_22220\\584116684.py:4: FutureWarning: Calling int on a single element Series is deprecated and will raise a TypeError in the future. Use int(ser.iloc[0]) instead\n",
      "  out = isinstance(int(entry), int)\n",
      "C:\\Users\\G23236\\AppData\\Local\\Temp\\ipykernel_22220\\584116684.py:4: FutureWarning: Calling int on a single element Series is deprecated and will raise a TypeError in the future. Use int(ser.iloc[0]) instead\n",
      "  out = isinstance(int(entry), int)\n",
      "C:\\Users\\G23236\\AppData\\Local\\Temp\\ipykernel_22220\\584116684.py:4: FutureWarning: Calling int on a single element Series is deprecated and will raise a TypeError in the future. Use int(ser.iloc[0]) instead\n",
      "  out = isinstance(int(entry), int)\n"
     ]
    },
    {
     "name": "stdout",
     "output_type": "stream",
     "text": [
      "96.pdf\n",
      "97.pdf\n",
      "98.pdf\n",
      "99.pdf\n"
     ]
    },
    {
     "name": "stderr",
     "output_type": "stream",
     "text": [
      "C:\\Users\\G23236\\AppData\\Local\\Temp\\ipykernel_22220\\584116684.py:4: FutureWarning: Calling int on a single element Series is deprecated and will raise a TypeError in the future. Use int(ser.iloc[0]) instead\n",
      "  out = isinstance(int(entry), int)\n"
     ]
    }
   ],
   "source": [
    "from tqdm.notebook import tqdm\n",
    "\n",
    "files = glob.glob('*.pdf')\n",
    "table = pd.DataFrame(columns=['position','article','paid per unit','amount','paid per position','reduced','original price per unit','original price per position','binding','quantity','unit','delivery_day','delivery_month','deliveryID','order-nr','add_day','add_month','pfand'])\n",
    "\n",
    "for file in tqdm(files):\n",
    "    print(file)\n",
    "    art_df = pd.DataFrame()\n",
    "    contentlist = parse_pdf(file)\n",
    "    t = pd.DataFrame(contentlist).apply(lambda x: find_int(x), axis=1)\n",
    "    art_df, idx_list = positions(t,contentlist, art_df)\n",
    "    art_df = delivery(contentlist, art_df, idx_list)\n",
    "    art_df = deliveryID(art_df, file)\n",
    "    t2 = pd.DataFrame(contentlist).apply(lambda x: str(x)[5:14]=='Bestellnr', axis=1)\n",
    "    art_df, idx_order_nr, order_nr_list = order_nr(t2, contentlist, art_df, idx_list)\n",
    "    art_df = added(idx_order_nr, contentlist, order_nr_list, art_df)\n",
    "    art_df = pfand(contentlist, art_df)\n",
    "    table = pd.concat([table, art_df], ignore_index=True)\n",
    "\n",
    "table.to_excel('table.xlsx')"
   ]
  },
  {
   "cell_type": "code",
   "execution_count": 12,
   "metadata": {},
   "outputs": [
    {
     "data": {
      "text/html": [
       "<div>\n",
       "<style scoped>\n",
       "    .dataframe tbody tr th:only-of-type {\n",
       "        vertical-align: middle;\n",
       "    }\n",
       "\n",
       "    .dataframe tbody tr th {\n",
       "        vertical-align: top;\n",
       "    }\n",
       "\n",
       "    .dataframe thead th {\n",
       "        text-align: right;\n",
       "    }\n",
       "</style>\n",
       "<table border=\"1\" class=\"dataframe\">\n",
       "  <thead>\n",
       "    <tr style=\"text-align: right;\">\n",
       "      <th></th>\n",
       "      <th>position</th>\n",
       "      <th>article</th>\n",
       "      <th>paid per unit</th>\n",
       "      <th>amount</th>\n",
       "      <th>paid per position</th>\n",
       "      <th>reduced</th>\n",
       "      <th>original price per unit</th>\n",
       "      <th>original price per position</th>\n",
       "      <th>binding</th>\n",
       "      <th>quantity</th>\n",
       "      <th>unit</th>\n",
       "      <th>delivery_day</th>\n",
       "      <th>delivery_month</th>\n",
       "      <th>deliveryID</th>\n",
       "      <th>order-nr</th>\n",
       "      <th>add_day</th>\n",
       "      <th>add_month</th>\n",
       "      <th>pfand</th>\n",
       "    </tr>\n",
       "  </thead>\n",
       "  <tbody>\n",
       "    <tr>\n",
       "      <th>0</th>\n",
       "      <td>1</td>\n",
       "      <td>Leimer Backerbsen</td>\n",
       "      <td>1.19</td>\n",
       "      <td>1</td>\n",
       "      <td>1.19</td>\n",
       "      <td>False</td>\n",
       "      <td>1.19</td>\n",
       "      <td>1.19</td>\n",
       "      <td>200g</td>\n",
       "      <td>200.0</td>\n",
       "      <td>g</td>\n",
       "      <td>16</td>\n",
       "      <td>9</td>\n",
       "      <td>1.pdf</td>\n",
       "      <td>806-062-0784</td>\n",
       "      <td>13</td>\n",
       "      <td>9</td>\n",
       "      <td>0.00</td>\n",
       "    </tr>\n",
       "    <tr>\n",
       "      <th>1</th>\n",
       "      <td>2</td>\n",
       "      <td>Radieschen</td>\n",
       "      <td>0.59</td>\n",
       "      <td>1</td>\n",
       "      <td>0.59</td>\n",
       "      <td>False</td>\n",
       "      <td>0.59</td>\n",
       "      <td>0.59</td>\n",
       "      <td>1 Bund</td>\n",
       "      <td>1.0</td>\n",
       "      <td>Bund</td>\n",
       "      <td>16</td>\n",
       "      <td>9</td>\n",
       "      <td>1.pdf</td>\n",
       "      <td>806-062-0784</td>\n",
       "      <td>13</td>\n",
       "      <td>9</td>\n",
       "      <td>0.00</td>\n",
       "    </tr>\n",
       "    <tr>\n",
       "      <th>2</th>\n",
       "      <td>3</td>\n",
       "      <td>Elinas Joghurt Honig Griechischer Art</td>\n",
       "      <td>1.89</td>\n",
       "      <td>1</td>\n",
       "      <td>1.89</td>\n",
       "      <td>False</td>\n",
       "      <td>1.89</td>\n",
       "      <td>1.89</td>\n",
       "      <td>4 x 150g</td>\n",
       "      <td>600.0</td>\n",
       "      <td>g</td>\n",
       "      <td>16</td>\n",
       "      <td>9</td>\n",
       "      <td>1.pdf</td>\n",
       "      <td>806-062-0784</td>\n",
       "      <td>13</td>\n",
       "      <td>9</td>\n",
       "      <td>0.00</td>\n",
       "    </tr>\n",
       "    <tr>\n",
       "      <th>3</th>\n",
       "      <td>4</td>\n",
       "      <td>Knorr Buchstaben Suppe</td>\n",
       "      <td>0.89</td>\n",
       "      <td>2</td>\n",
       "      <td>1.78</td>\n",
       "      <td>False</td>\n",
       "      <td>0.89</td>\n",
       "      <td>1.78</td>\n",
       "      <td>82g</td>\n",
       "      <td>82.0</td>\n",
       "      <td>g</td>\n",
       "      <td>16</td>\n",
       "      <td>9</td>\n",
       "      <td>1.pdf</td>\n",
       "      <td>806-062-0784</td>\n",
       "      <td>13</td>\n",
       "      <td>9</td>\n",
       "      <td>0.00</td>\n",
       "    </tr>\n",
       "    <tr>\n",
       "      <th>4</th>\n",
       "      <td>5</td>\n",
       "      <td>Knorr Hühnersuppe Nudeltopf Mix</td>\n",
       "      <td>0.89</td>\n",
       "      <td>2</td>\n",
       "      <td>1.78</td>\n",
       "      <td>False</td>\n",
       "      <td>0.89</td>\n",
       "      <td>1.78</td>\n",
       "      <td>69g</td>\n",
       "      <td>69.0</td>\n",
       "      <td>g</td>\n",
       "      <td>16</td>\n",
       "      <td>9</td>\n",
       "      <td>1.pdf</td>\n",
       "      <td>806-062-0784</td>\n",
       "      <td>13</td>\n",
       "      <td>9</td>\n",
       "      <td>0.00</td>\n",
       "    </tr>\n",
       "    <tr>\n",
       "      <th>...</th>\n",
       "      <td>...</td>\n",
       "      <td>...</td>\n",
       "      <td>...</td>\n",
       "      <td>...</td>\n",
       "      <td>...</td>\n",
       "      <td>...</td>\n",
       "      <td>...</td>\n",
       "      <td>...</td>\n",
       "      <td>...</td>\n",
       "      <td>...</td>\n",
       "      <td>...</td>\n",
       "      <td>...</td>\n",
       "      <td>...</td>\n",
       "      <td>...</td>\n",
       "      <td>...</td>\n",
       "      <td>...</td>\n",
       "      <td>...</td>\n",
       "      <td>...</td>\n",
       "    </tr>\n",
       "    <tr>\n",
       "      <th>6967</th>\n",
       "      <td>49</td>\n",
       "      <td>Dahlhoff Aioli Creme</td>\n",
       "      <td>2.19</td>\n",
       "      <td>1</td>\n",
       "      <td>2.19</td>\n",
       "      <td>False</td>\n",
       "      <td>2.19</td>\n",
       "      <td>2.19</td>\n",
       "      <td>250g</td>\n",
       "      <td>250.0</td>\n",
       "      <td>g</td>\n",
       "      <td>10</td>\n",
       "      <td>5</td>\n",
       "      <td>99.pdf</td>\n",
       "      <td>103-773-0415</td>\n",
       "      <td>9</td>\n",
       "      <td>5</td>\n",
       "      <td>-6.03</td>\n",
       "    </tr>\n",
       "    <tr>\n",
       "      <th>6968</th>\n",
       "      <td>50</td>\n",
       "      <td>Originale Grana Padano gerieben</td>\n",
       "      <td>1.69</td>\n",
       "      <td>1</td>\n",
       "      <td>1.69</td>\n",
       "      <td>False</td>\n",
       "      <td>1.69</td>\n",
       "      <td>1.69</td>\n",
       "      <td>100g</td>\n",
       "      <td>100.0</td>\n",
       "      <td>g</td>\n",
       "      <td>10</td>\n",
       "      <td>5</td>\n",
       "      <td>99.pdf</td>\n",
       "      <td>105-093-0132</td>\n",
       "      <td>9</td>\n",
       "      <td>5</td>\n",
       "      <td>-6.03</td>\n",
       "    </tr>\n",
       "    <tr>\n",
       "      <th>6969</th>\n",
       "      <td>51</td>\n",
       "      <td>Joghurt 1,5%</td>\n",
       "      <td>0.49</td>\n",
       "      <td>1</td>\n",
       "      <td>0.49</td>\n",
       "      <td>False</td>\n",
       "      <td>0.49</td>\n",
       "      <td>0.49</td>\n",
       "      <td>500g</td>\n",
       "      <td>500.0</td>\n",
       "      <td>g</td>\n",
       "      <td>10</td>\n",
       "      <td>5</td>\n",
       "      <td>99.pdf</td>\n",
       "      <td>105-093-0330</td>\n",
       "      <td>9</td>\n",
       "      <td>5</td>\n",
       "      <td>-6.03</td>\n",
       "    </tr>\n",
       "    <tr>\n",
       "      <th>6970</th>\n",
       "      <td>52</td>\n",
       "      <td>Schlagsahne 30%</td>\n",
       "      <td>0.69</td>\n",
       "      <td>2</td>\n",
       "      <td>1.38</td>\n",
       "      <td>False</td>\n",
       "      <td>0.69</td>\n",
       "      <td>1.38</td>\n",
       "      <td>200g</td>\n",
       "      <td>200.0</td>\n",
       "      <td>g</td>\n",
       "      <td>10</td>\n",
       "      <td>5</td>\n",
       "      <td>99.pdf</td>\n",
       "      <td>105-093-0330</td>\n",
       "      <td>9</td>\n",
       "      <td>5</td>\n",
       "      <td>-6.03</td>\n",
       "    </tr>\n",
       "    <tr>\n",
       "      <th>6971</th>\n",
       "      <td>53</td>\n",
       "      <td>Leimer Backerbsen</td>\n",
       "      <td>1.29</td>\n",
       "      <td>1</td>\n",
       "      <td>1.29</td>\n",
       "      <td>False</td>\n",
       "      <td>1.29</td>\n",
       "      <td>1.29</td>\n",
       "      <td>200g</td>\n",
       "      <td>200.0</td>\n",
       "      <td>g</td>\n",
       "      <td>10</td>\n",
       "      <td>5</td>\n",
       "      <td>99.pdf</td>\n",
       "      <td>105-093-0330</td>\n",
       "      <td>9</td>\n",
       "      <td>5</td>\n",
       "      <td>-6.03</td>\n",
       "    </tr>\n",
       "  </tbody>\n",
       "</table>\n",
       "<p>6972 rows × 18 columns</p>\n",
       "</div>"
      ],
      "text/plain": [
       "     position                                article  paid per unit amount  \\\n",
       "0           1                      Leimer Backerbsen           1.19      1   \n",
       "1           2                             Radieschen           0.59      1   \n",
       "2           3  Elinas Joghurt Honig Griechischer Art           1.89      1   \n",
       "3           4                 Knorr Buchstaben Suppe           0.89      2   \n",
       "4           5        Knorr Hühnersuppe Nudeltopf Mix           0.89      2   \n",
       "...       ...                                    ...            ...    ...   \n",
       "6967       49                   Dahlhoff Aioli Creme           2.19      1   \n",
       "6968       50        Originale Grana Padano gerieben           1.69      1   \n",
       "6969       51                           Joghurt 1,5%           0.49      1   \n",
       "6970       52                        Schlagsahne 30%           0.69      2   \n",
       "6971       53                      Leimer Backerbsen           1.29      1   \n",
       "\n",
       "      paid per position reduced  original price per unit  \\\n",
       "0                  1.19   False                     1.19   \n",
       "1                  0.59   False                     0.59   \n",
       "2                  1.89   False                     1.89   \n",
       "3                  1.78   False                     0.89   \n",
       "4                  1.78   False                     0.89   \n",
       "...                 ...     ...                      ...   \n",
       "6967               2.19   False                     2.19   \n",
       "6968               1.69   False                     1.69   \n",
       "6969               0.49   False                     0.49   \n",
       "6970               1.38   False                     0.69   \n",
       "6971               1.29   False                     1.29   \n",
       "\n",
       "      original price per position   binding  quantity  unit delivery_day  \\\n",
       "0                            1.19      200g     200.0     g           16   \n",
       "1                            0.59    1 Bund       1.0  Bund           16   \n",
       "2                            1.89  4 x 150g     600.0     g           16   \n",
       "3                            1.78       82g      82.0     g           16   \n",
       "4                            1.78       69g      69.0     g           16   \n",
       "...                           ...       ...       ...   ...          ...   \n",
       "6967                         2.19      250g     250.0     g           10   \n",
       "6968                         1.69      100g     100.0     g           10   \n",
       "6969                         0.49      500g     500.0     g           10   \n",
       "6970                         1.38      200g     200.0     g           10   \n",
       "6971                         1.29      200g     200.0     g           10   \n",
       "\n",
       "     delivery_month deliveryID      order-nr add_day add_month  pfand  \n",
       "0                 9      1.pdf  806-062-0784      13         9   0.00  \n",
       "1                 9      1.pdf  806-062-0784      13         9   0.00  \n",
       "2                 9      1.pdf  806-062-0784      13         9   0.00  \n",
       "3                 9      1.pdf  806-062-0784      13         9   0.00  \n",
       "4                 9      1.pdf  806-062-0784      13         9   0.00  \n",
       "...             ...        ...           ...     ...       ...    ...  \n",
       "6967              5     99.pdf  103-773-0415       9         5  -6.03  \n",
       "6968              5     99.pdf  105-093-0132       9         5  -6.03  \n",
       "6969              5     99.pdf  105-093-0330       9         5  -6.03  \n",
       "6970              5     99.pdf  105-093-0330       9         5  -6.03  \n",
       "6971              5     99.pdf  105-093-0330       9         5  -6.03  \n",
       "\n",
       "[6972 rows x 18 columns]"
      ]
     },
     "execution_count": 12,
     "metadata": {},
     "output_type": "execute_result"
    }
   ],
   "source": [
    "table"
   ]
  }
 ],
 "metadata": {
  "kernelspec": {
   "display_name": "Python 3",
   "language": "python",
   "name": "python3"
  },
  "language_info": {
   "codemirror_mode": {
    "name": "ipython",
    "version": 3
   },
   "file_extension": ".py",
   "mimetype": "text/x-python",
   "name": "python",
   "nbconvert_exporter": "python",
   "pygments_lexer": "ipython3",
   "version": "3.11.4"
  }
 },
 "nbformat": 4,
 "nbformat_minor": 2
}
